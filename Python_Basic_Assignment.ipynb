{
  "nbformat": 4,
  "nbformat_minor": 0,
  "metadata": {
    "colab": {
      "provenance": [],
      "authorship_tag": "ABX9TyMq+Q91amGWpDvvCw4fS4Up",
      "include_colab_link": true
    },
    "kernelspec": {
      "name": "python3",
      "display_name": "Python 3"
    },
    "language_info": {
      "name": "python"
    }
  },
  "cells": [
    {
      "cell_type": "markdown",
      "metadata": {
        "id": "view-in-github",
        "colab_type": "text"
      },
      "source": [
        "<a href=\"https://colab.research.google.com/github/Chhaya-cloud/Chatbot/blob/main/Python_Basic_Assignment.ipynb\" target=\"_parent\"><img src=\"https://colab.research.google.com/assets/colab-badge.svg\" alt=\"Open In Colab\"/></a>"
      ]
    },
    {
      "cell_type": "code",
      "execution_count": null,
      "metadata": {
        "id": "L1m1HPuCB4N0"
      },
      "outputs": [],
      "source": [
        "#Problem Statement:\n",
        "#This assignment aims to develop foundational skills in Python programming, covering essential\n",
        "#concepts like Lists, Tuples, Dictionaries, Sets, Conditional Statements (if-else), Loops (for and\n",
        "#while), and loop control statements (break and continue). By completing this assignment,\n",
        "#students will gain hands-on experience in basic Python programming constructs necessary for\n",
        "#roblem-solving and data handling."
      ]
    },
    {
      "cell_type": "code",
      "source": [
        "#Print a small message\n",
        "print('Hello Python')"
      ],
      "metadata": {
        "colab": {
          "base_uri": "https://localhost:8080/"
        },
        "id": "xaaZJU-mEHun",
        "outputId": "8960f383-3713-4939-ce89-ccb2a11d30d4"
      },
      "execution_count": 10,
      "outputs": [
        {
          "output_type": "stream",
          "name": "stdout",
          "text": [
            "Hello Python\n"
          ]
        }
      ]
    },
    {
      "cell_type": "code",
      "source": [
        "# Exploring Data Types\n",
        "# Integer\n",
        "age = 25\n",
        "#Float\n",
        "height = 5.9\n",
        "name = \"Alice\"\n",
        "#Boolean\n",
        "is_student = True\n",
        "print(type(age), type(height), type(name), type(is_student))"
      ],
      "metadata": {
        "colab": {
          "base_uri": "https://localhost:8080/"
        },
        "id": "zkkVwchsEHpH",
        "outputId": "3fc590a6-8631-4c21-ae3c-5a1741df6630"
      },
      "execution_count": 12,
      "outputs": [
        {
          "output_type": "stream",
          "name": "stdout",
          "text": [
            "<class 'int'> <class 'float'> <class 'str'> <class 'bool'>\n"
          ]
        }
      ]
    },
    {
      "cell_type": "code",
      "source": [
        "# List Operations"
      ],
      "metadata": {
        "id": "iU5-pBOrEHnF"
      },
      "execution_count": null,
      "outputs": []
    },
    {
      "cell_type": "code",
      "source": [
        "from typing import List\n",
        "# Create a list\n",
        "Fruits = ['Apple', 'Banana', 'Kiwi', 'Blueberries']"
      ],
      "metadata": {
        "id": "1ZROmonAEHj9"
      },
      "execution_count": 13,
      "outputs": []
    },
    {
      "cell_type": "code",
      "source": [
        "# Append\n",
        "Fruits.append('Mango')"
      ],
      "metadata": {
        "id": "8KeMU_TLEHhV"
      },
      "execution_count": 14,
      "outputs": []
    },
    {
      "cell_type": "code",
      "source": [
        "# Remove\n",
        "Fruits.remove('Kiwi')"
      ],
      "metadata": {
        "id": "p7jkvC9jEHfA"
      },
      "execution_count": 16,
      "outputs": []
    },
    {
      "cell_type": "code",
      "source": [
        "# Pop\n",
        "Fruits.pop(2)"
      ],
      "metadata": {
        "colab": {
          "base_uri": "https://localhost:8080/",
          "height": 35
        },
        "id": "4yaT4XxsEHb-",
        "outputId": "bd701969-9a64-4994-bbba-2dab251e47d3"
      },
      "execution_count": 20,
      "outputs": [
        {
          "output_type": "execute_result",
          "data": {
            "text/plain": [
              "'Mango'"
            ],
            "application/vnd.google.colaboratory.intrinsic+json": {
              "type": "string"
            }
          },
          "metadata": {},
          "execution_count": 20
        }
      ]
    },
    {
      "cell_type": "code",
      "source": [
        "# Create a list\n",
        "Fruits = ['Apple', 'Banana', 'Kiwi', 'Blueberries']\n",
        "description = ['juicy', 'sweet', 'Sour', 'Blue']"
      ],
      "metadata": {
        "id": "bYQNhMkMGcO4"
      },
      "execution_count": 24,
      "outputs": []
    },
    {
      "cell_type": "code",
      "source": [
        "# Slicing\n",
        "Fruits[1:3]"
      ],
      "metadata": {
        "colab": {
          "base_uri": "https://localhost:8080/"
        },
        "id": "fE8Ups4TEHZA",
        "outputId": "a2691a24-d921-495e-e8c1-4f86850473aa"
      },
      "execution_count": 25,
      "outputs": [
        {
          "output_type": "execute_result",
          "data": {
            "text/plain": [
              "['Banana', 'Kiwi']"
            ]
          },
          "metadata": {},
          "execution_count": 25
        }
      ]
    },
    {
      "cell_type": "code",
      "source": [
        "# Slicing\n",
        "Fruits[1:3][1]"
      ],
      "metadata": {
        "colab": {
          "base_uri": "https://localhost:8080/",
          "height": 35
        },
        "id": "ZvtINqEtGi_B",
        "outputId": "a58d9b74-f668-4656-94c7-b7c3a8828abd"
      },
      "execution_count": 28,
      "outputs": [
        {
          "output_type": "execute_result",
          "data": {
            "text/plain": [
              "'Kiwi'"
            ],
            "application/vnd.google.colaboratory.intrinsic+json": {
              "type": "string"
            }
          },
          "metadata": {},
          "execution_count": 28
        }
      ]
    },
    {
      "cell_type": "code",
      "source": [
        "# Tuple operations\n",
        "# Creating a tuple\n",
        "colors = (\"red\", \"blue\", \"green\")\n",
        "\n",
        "# Accessing elements\n",
        "print(colors[1])\n"
      ],
      "metadata": {
        "colab": {
          "base_uri": "https://localhost:8080/"
        },
        "id": "91-voNXyGi9d",
        "outputId": "1731da04-8a31-4252-a6fa-3294b027b654"
      },
      "execution_count": 32,
      "outputs": [
        {
          "output_type": "stream",
          "name": "stdout",
          "text": [
            "blue\n"
          ]
        }
      ]
    },
    {
      "cell_type": "code",
      "source": [
        "#Understanding Tuple Immutability\n",
        "# Modify a tuple\n",
        "colors[1] = \"yellow\""
      ],
      "metadata": {
        "colab": {
          "base_uri": "https://localhost:8080/",
          "height": 176
        },
        "id": "kLHMOMJ6HWOU",
        "outputId": "5f18e286-a880-4f8f-f247-e80c95ea7070"
      },
      "execution_count": 33,
      "outputs": [
        {
          "output_type": "error",
          "ename": "TypeError",
          "evalue": "'tuple' object does not support item assignment",
          "traceback": [
            "\u001b[0;31m---------------------------------------------------------------------------\u001b[0m",
            "\u001b[0;31mTypeError\u001b[0m                                 Traceback (most recent call last)",
            "\u001b[0;32m<ipython-input-33-4507a305e793>\u001b[0m in \u001b[0;36m<cell line: 0>\u001b[0;34m()\u001b[0m\n\u001b[1;32m      1\u001b[0m \u001b[0;31m#Understanding Tuple Immutability\u001b[0m\u001b[0;34m\u001b[0m\u001b[0;34m\u001b[0m\u001b[0m\n\u001b[1;32m      2\u001b[0m \u001b[0;31m# Modify a tuple\u001b[0m\u001b[0;34m\u001b[0m\u001b[0;34m\u001b[0m\u001b[0m\n\u001b[0;32m----> 3\u001b[0;31m \u001b[0mcolors\u001b[0m\u001b[0;34m[\u001b[0m\u001b[0;36m1\u001b[0m\u001b[0;34m]\u001b[0m \u001b[0;34m=\u001b[0m \u001b[0;34m\"yellow\"\u001b[0m\u001b[0;34m\u001b[0m\u001b[0;34m\u001b[0m\u001b[0m\n\u001b[0m",
            "\u001b[0;31mTypeError\u001b[0m: 'tuple' object does not support item assignment"
          ]
        }
      ]
    },
    {
      "cell_type": "code",
      "source": [
        "# Use Tuple unpacking\n",
        "a,b,c = colors\n",
        "print(a,b,c)"
      ],
      "metadata": {
        "colab": {
          "base_uri": "https://localhost:8080/"
        },
        "id": "IFncMKC_HWHD",
        "outputId": "3ca08504-702d-4bc0-f997-ec7157119899"
      },
      "execution_count": 34,
      "outputs": [
        {
          "output_type": "stream",
          "name": "stdout",
          "text": [
            "red blue green\n"
          ]
        }
      ]
    },
    {
      "cell_type": "code",
      "source": [
        "# Creating a dataset -> Dictionary of student names and marks\n",
        "student_marks = {\n",
        "    'Alice' : 85,\n",
        "    'Rishita' : 95,\n",
        "    'Bobby' : 56,\n",
        "    'Prince': 67,\n",
        "    'Maira': 88,\n",
        "    'Misha': 89,\n",
        "    'Raju': 78\n",
        "}"
      ],
      "metadata": {
        "id": "g3yYTcxTCPlj"
      },
      "execution_count": 6,
      "outputs": []
    },
    {
      "cell_type": "code",
      "source": [
        "# Display the Dataset\n",
        "print(student_marks)\n"
      ],
      "metadata": {
        "colab": {
          "base_uri": "https://localhost:8080/"
        },
        "id": "16NkiUIKCPi1",
        "outputId": "cec8f459-f4ad-4b9d-cf94-fc4a38361f25"
      },
      "execution_count": 8,
      "outputs": [
        {
          "output_type": "stream",
          "name": "stdout",
          "text": [
            "{'Alice': 85, 'Rishita': 95, 'Bobby': 56, 'Prince': 67, 'Maira': 88, 'Misha': 89, 'Raju': 78}\n"
          ]
        }
      ]
    },
    {
      "cell_type": "code",
      "source": [
        "# Perform operations like adding, updating, and deleting key-value pairs.\n",
        "# Adding a new student\n",
        "student_marks['Rahul'] = 88"
      ],
      "metadata": {
        "id": "qoXmP-BlCPgd"
      },
      "execution_count": 36,
      "outputs": []
    },
    {
      "cell_type": "code",
      "source": [
        "#Updating a value\n",
        "student_marks['Bobby'] = 90"
      ],
      "metadata": {
        "id": "k0jiVKaYCPdm"
      },
      "execution_count": 37,
      "outputs": []
    },
    {
      "cell_type": "code",
      "source": [
        "# Display the Dataset\n",
        "print(student_marks)"
      ],
      "metadata": {
        "colab": {
          "base_uri": "https://localhost:8080/"
        },
        "id": "eiJxy5hACPaT",
        "outputId": "422bd176-95aa-4c7f-ef26-f65db97772c7"
      },
      "execution_count": 38,
      "outputs": [
        {
          "output_type": "stream",
          "name": "stdout",
          "text": [
            "{'Alice': 85, 'Rishita': 95, 'Bobby': 90, 'Prince': 67, 'Maira': 88, 'Misha': 89, 'Raju': 78, 'Rahul': 88}\n"
          ]
        }
      ]
    },
    {
      "cell_type": "code",
      "source": [
        "# Deleting a key\n",
        "del student_marks['Raju']"
      ],
      "metadata": {
        "id": "JxHib8gpIYjg"
      },
      "execution_count": 39,
      "outputs": []
    },
    {
      "cell_type": "code",
      "source": [
        "# Display the Dataset\n",
        "print(student_marks)"
      ],
      "metadata": {
        "colab": {
          "base_uri": "https://localhost:8080/"
        },
        "id": "41kljhGuIYgn",
        "outputId": "a9694963-cb9d-4c89-fbca-f10f869084ee"
      },
      "execution_count": 40,
      "outputs": [
        {
          "output_type": "stream",
          "name": "stdout",
          "text": [
            "{'Alice': 85, 'Rishita': 95, 'Bobby': 90, 'Prince': 67, 'Maira': 88, 'Misha': 89, 'Rahul': 88}\n"
          ]
        }
      ]
    },
    {
      "cell_type": "code",
      "source": [
        "#Iterate through a dictionary using loops\n",
        "for student, mark in student_marks.items():\n",
        "    print(f\"{student}:{mark}\")"
      ],
      "metadata": {
        "colab": {
          "base_uri": "https://localhost:8080/"
        },
        "id": "EmHm9a3gIgeF",
        "outputId": "8927f567-88f6-4738-946a-c8fa5541389b"
      },
      "execution_count": 44,
      "outputs": [
        {
          "output_type": "stream",
          "name": "stdout",
          "text": [
            "Alice:85\n",
            "Rishita:95\n",
            "Bobby:90\n",
            "Prince:67\n",
            "Maira:88\n",
            "Misha:89\n",
            "Rahul:88\n"
          ]
        }
      ]
    },
    {
      "cell_type": "code",
      "source": [
        "# Set Operations\n",
        "# Creating a sets and performing operations\n",
        "set1 = {\"apple\", \"banana\", \"cherry\"}\n",
        "set2 = {\"carrot\", \"broccoli\", \"apple\"}\n",
        "#Union\n",
        "Union_set = set1.union(set2)\n",
        "print(Union_set)\n",
        "\n"
      ],
      "metadata": {
        "colab": {
          "base_uri": "https://localhost:8080/"
        },
        "id": "fjSIwSd5IgbH",
        "outputId": "d0d935db-e2cb-43e5-f8e5-085fb2951a6e"
      },
      "execution_count": 46,
      "outputs": [
        {
          "output_type": "stream",
          "name": "stdout",
          "text": [
            "{'banana', 'carrot', 'broccoli', 'apple', 'cherry'}\n"
          ]
        }
      ]
    },
    {
      "cell_type": "code",
      "source": [
        "#Intersection\n",
        "Intersection_set1 = set1.intersection(set2)\n",
        "print(Intersection_set1)"
      ],
      "metadata": {
        "colab": {
          "base_uri": "https://localhost:8080/"
        },
        "id": "Q5cUVTwZIgW-",
        "outputId": "9520b461-bfc7-40c8-ed2c-3d3305329b59"
      },
      "execution_count": 47,
      "outputs": [
        {
          "output_type": "stream",
          "name": "stdout",
          "text": [
            "{'apple'}\n"
          ]
        }
      ]
    },
    {
      "cell_type": "code",
      "source": [
        "# Difference\n",
        "print(set1 - set2)\n"
      ],
      "metadata": {
        "colab": {
          "base_uri": "https://localhost:8080/"
        },
        "id": "f8wy_AFsKfKN",
        "outputId": "ed1d6f2d-185d-428d-aa3f-5f7b176b123a"
      },
      "execution_count": 60,
      "outputs": [
        {
          "output_type": "stream",
          "name": "stdout",
          "text": [
            "set()\n"
          ]
        }
      ]
    },
    {
      "cell_type": "code",
      "source": [
        " #Creating a sets and performing operations\n",
        " set1 = {24,24,24}\n",
        " set2 = {34,24,20}\n",
        "#Union\n",
        "Union_set = set1.union(set2)\n",
        "print(Union_set)"
      ],
      "metadata": {
        "colab": {
          "base_uri": "https://localhost:8080/"
        },
        "id": "ndzAS15zIYdW",
        "outputId": "d2501a0e-48a1-4f54-9f81-c8ce5daab9d9"
      },
      "execution_count": 54,
      "outputs": [
        {
          "output_type": "stream",
          "name": "stdout",
          "text": [
            "{24, 34, 20}\n"
          ]
        }
      ]
    },
    {
      "cell_type": "code",
      "source": [
        "#Intersection\n",
        "Intersection_set1 = set1.intersection(set2)\n",
        "print(Intersection_set1)"
      ],
      "metadata": {
        "colab": {
          "base_uri": "https://localhost:8080/"
        },
        "id": "uY2vlJppCPXk",
        "outputId": "85b4c57d-0c7c-48c8-8991-a53e670e6e4b"
      },
      "execution_count": 55,
      "outputs": [
        {
          "output_type": "stream",
          "name": "stdout",
          "text": [
            "{24}\n"
          ]
        }
      ]
    },
    {
      "cell_type": "code",
      "source": [
        "# Difference\n",
        "print(set1 - set2)"
      ],
      "metadata": {
        "colab": {
          "base_uri": "https://localhost:8080/"
        },
        "id": "N6hIAYmOKb2Z",
        "outputId": "4710dfe9-be78-4d20-c2b9-3d470e500785"
      },
      "execution_count": 59,
      "outputs": [
        {
          "output_type": "stream",
          "name": "stdout",
          "text": [
            "set()\n"
          ]
        }
      ]
    },
    {
      "cell_type": "code",
      "source": [
        "# Understanding Uniqueness\n",
        "unique_numbers = {1, 2, 3, 4, 5, 1, 2, 3}\n",
        "print(unique_numbers)"
      ],
      "metadata": {
        "colab": {
          "base_uri": "https://localhost:8080/"
        },
        "id": "AqOz8cs2Kbzm",
        "outputId": "3859795b-5667-4f23-dccc-7a946c0feb00"
      },
      "execution_count": 61,
      "outputs": [
        {
          "output_type": "stream",
          "name": "stdout",
          "text": [
            "{1, 2, 3, 4, 5}\n"
          ]
        }
      ]
    },
    {
      "cell_type": "code",
      "source": [
        "# Conditional Statements"
      ],
      "metadata": {
        "id": "JE-0YcXMKbxI"
      },
      "execution_count": null,
      "outputs": []
    },
    {
      "cell_type": "code",
      "source": [
        "# Using If-Else\n",
        "age = int(input(\"Enter your age: \"))\n",
        "if age >= 18:\n",
        "    print(\"You are an adult.\")\n",
        "else:\n",
        "    print(\"You are a minor.\")\n"
      ],
      "metadata": {
        "colab": {
          "base_uri": "https://localhost:8080/"
        },
        "id": "bOMfPqFvKbun",
        "outputId": "9fbecb18-2819-4cde-8a61-e7df1457909c"
      },
      "execution_count": 62,
      "outputs": [
        {
          "output_type": "stream",
          "name": "stdout",
          "text": [
            "Enter your age: 34\n",
            "You are an adult.\n"
          ]
        }
      ]
    },
    {
      "cell_type": "code",
      "source": [
        "# Using Nested if-else\n",
        "Number = int(input(\"Enter a number: \"))\n",
        "if Number > 0:\n",
        "    print(\"Positive number\")\n",
        "elif Number < 0:\n",
        "    print(\"Negative number\")\n",
        "else:\n",
        "    print(\"Zero\")"
      ],
      "metadata": {
        "colab": {
          "base_uri": "https://localhost:8080/"
        },
        "id": "csTpDetZLKCr",
        "outputId": "46c55582-507c-471f-ec49-7510807f485d"
      },
      "execution_count": 64,
      "outputs": [
        {
          "output_type": "stream",
          "name": "stdout",
          "text": [
            "Enter a number: 8\n",
            "Positive number\n"
          ]
        }
      ]
    },
    {
      "cell_type": "code",
      "source": [
        "# looping constructs"
      ],
      "metadata": {
        "id": "jglbr2MhLcVi"
      },
      "execution_count": null,
      "outputs": []
    },
    {
      "cell_type": "code",
      "source": [
        "# Using For loop\n",
        "for i in range(1, 6):\n",
        "    print(i)"
      ],
      "metadata": {
        "colab": {
          "base_uri": "https://localhost:8080/"
        },
        "id": "hpo81RqkLhMa",
        "outputId": "9bd2f17b-9a75-4d56-c7e3-40665a6c9d0a"
      },
      "execution_count": 65,
      "outputs": [
        {
          "output_type": "stream",
          "name": "stdout",
          "text": [
            "1\n",
            "2\n",
            "3\n",
            "4\n",
            "5\n"
          ]
        }
      ]
    },
    {
      "cell_type": "code",
      "source": [
        "# Using While loop\n",
        "count = 0\n",
        "while count<5:\n",
        "  print(count)\n",
        "  count += 1"
      ],
      "metadata": {
        "colab": {
          "base_uri": "https://localhost:8080/"
        },
        "id": "z4dnEMAHLhJi",
        "outputId": "d3bb8d0a-b294-489d-aed0-a3667e4d709f"
      },
      "execution_count": 73,
      "outputs": [
        {
          "output_type": "stream",
          "name": "stdout",
          "text": [
            "0\n",
            "1\n",
            "2\n",
            "3\n",
            "4\n"
          ]
        }
      ]
    },
    {
      "cell_type": "code",
      "source": [
        "# Using Break and Continue\n",
        "for num in range(1, 11):\n",
        "    if i == 3:\n",
        "      continue\n",
        "      if i == 7:\n",
        "        break\n",
        "    print(i)"
      ],
      "metadata": {
        "colab": {
          "base_uri": "https://localhost:8080/"
        },
        "id": "OSZe1FERLhHK",
        "outputId": "e963dde7-ef16-45ca-d4ea-1f9fbc9238df"
      },
      "execution_count": 78,
      "outputs": [
        {
          "output_type": "stream",
          "name": "stdout",
          "text": [
            "5\n",
            "5\n",
            "5\n",
            "5\n",
            "5\n",
            "5\n",
            "5\n",
            "5\n",
            "5\n",
            "5\n"
          ]
        }
      ]
    },
    {
      "cell_type": "code",
      "source": [
        "# Problem solving tasks\n",
        "# Find the largest number in the list\n",
        "numbers = [34,46,23,45,2433,23,23,24,325]\n",
        "largest = max(numbers)\n",
        "print(largest)"
      ],
      "metadata": {
        "colab": {
          "base_uri": "https://localhost:8080/"
        },
        "id": "TAhQgCX6LhES",
        "outputId": "9d2361e5-3cd8-4a3f-f5fc-9b5c69ba7bde"
      },
      "execution_count": 79,
      "outputs": [
        {
          "output_type": "stream",
          "name": "stdout",
          "text": [
            "2433\n"
          ]
        }
      ]
    },
    {
      "cell_type": "code",
      "source": [
        "# Count frequency of elements in the list\n",
        "numbers = [1,1,1,1,5,55,5,5,2,2,2,2,2,7,7,77,]\n",
        "frequency = {}\n",
        "for num in numbers:\n",
        "    if num in frequency:\n",
        "        frequency[num] += 1\n",
        "    else:\n",
        "        frequency[num] = 1\n",
        "        print(frequency)"
      ],
      "metadata": {
        "colab": {
          "base_uri": "https://localhost:8080/"
        },
        "id": "DC-dh1O5M1Bm",
        "outputId": "1e470d05-3391-4677-af39-372f1cb0408e"
      },
      "execution_count": 81,
      "outputs": [
        {
          "output_type": "stream",
          "name": "stdout",
          "text": [
            "{1: 1}\n",
            "{1: 4, 5: 1}\n",
            "{1: 4, 5: 1, 55: 1}\n",
            "{1: 4, 5: 3, 55: 1, 2: 1}\n",
            "{1: 4, 5: 3, 55: 1, 2: 5, 7: 1}\n",
            "{1: 4, 5: 3, 55: 1, 2: 5, 7: 2, 77: 1}\n"
          ]
        }
      ]
    },
    {
      "cell_type": "code",
      "source": [
        "# Find the student with highest marks\n"
      ],
      "metadata": {
        "id": "MCSSMnSmNiZc"
      },
      "execution_count": null,
      "outputs": []
    },
    {
      "cell_type": "code",
      "source": [
        "# Creating a dataset -> Dictionary of student names and marks\n",
        "student_marks = {\n",
        "    'Alice' : 85,\n",
        "    'Rishita' : 95,\n",
        "    'Bobby' : 56,\n",
        "    'Prince': 67,\n",
        "    'Maira': 88,\n",
        "    'Misha': 89,\n",
        "    'Raju': 78\n",
        "}\n",
        "print(student_marks)"
      ],
      "metadata": {
        "colab": {
          "base_uri": "https://localhost:8080/"
        },
        "id": "-2kXtVleM0-_",
        "outputId": "4537870f-d50f-4269-e85a-e633f3b2fa15"
      },
      "execution_count": 83,
      "outputs": [
        {
          "output_type": "stream",
          "name": "stdout",
          "text": [
            "{'Alice': 85, 'Rishita': 95, 'Bobby': 56, 'Prince': 67, 'Maira': 88, 'Misha': 89, 'Raju': 78}\n"
          ]
        }
      ]
    },
    {
      "cell_type": "code",
      "source": [
        "top_student = max(student_marks, key=student_marks.get)\n",
        "print(top_student)"
      ],
      "metadata": {
        "colab": {
          "base_uri": "https://localhost:8080/"
        },
        "id": "GLXDtF4eM079",
        "outputId": "e11b3f0b-6141-4b9e-f342-711f29543a89"
      },
      "execution_count": 84,
      "outputs": [
        {
          "output_type": "stream",
          "name": "stdout",
          "text": [
            "Rishita\n"
          ]
        }
      ]
    },
    {
      "cell_type": "code",
      "source": [
        "# Fibonacci series with while loop\n",
        "a, b = 0, 1\n",
        "while b < 100:\n",
        "    print(b)\n",
        "    a, b = b, a + b"
      ],
      "metadata": {
        "colab": {
          "base_uri": "https://localhost:8080/"
        },
        "id": "fhUYmFJGOgS5",
        "outputId": "3240211a-3c0e-4b53-dad4-dde6c707b747"
      },
      "execution_count": 85,
      "outputs": [
        {
          "output_type": "stream",
          "name": "stdout",
          "text": [
            "1\n",
            "1\n",
            "2\n",
            "3\n",
            "5\n",
            "8\n",
            "13\n",
            "21\n",
            "34\n",
            "55\n",
            "89\n"
          ]
        }
      ]
    },
    {
      "cell_type": "code",
      "source": [
        "# Remove duplicates from the list using a set\n",
        "numbers = [1, 2, 2, 3, 4, 4, 5]\n",
        "unique_numbers = list(set(numbers))\n",
        "print(unique_numbers)"
      ],
      "metadata": {
        "colab": {
          "base_uri": "https://localhost:8080/"
        },
        "id": "TpzcPtnbOgQJ",
        "outputId": "6de33dc6-327d-4bcc-f43e-873408de2d49"
      },
      "execution_count": 86,
      "outputs": [
        {
          "output_type": "stream",
          "name": "stdout",
          "text": [
            "[1, 2, 3, 4, 5]\n"
          ]
        }
      ]
    },
    {
      "cell_type": "code",
      "source": [],
      "metadata": {
        "id": "brV9L3biOgNK"
      },
      "execution_count": null,
      "outputs": []
    }
  ]
}