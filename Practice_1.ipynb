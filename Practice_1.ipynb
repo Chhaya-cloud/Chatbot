{
  "nbformat": 4,
  "nbformat_minor": 0,
  "metadata": {
    "colab": {
      "provenance": [],
      "authorship_tag": "ABX9TyOegX6INxCKvcoHLOEwcXFb",
      "include_colab_link": true
    },
    "kernelspec": {
      "name": "python3",
      "display_name": "Python 3"
    },
    "language_info": {
      "name": "python"
    }
  },
  "cells": [
    {
      "cell_type": "markdown",
      "metadata": {
        "id": "view-in-github",
        "colab_type": "text"
      },
      "source": [
        "<a href=\"https://colab.research.google.com/github/Chhaya-cloud/Chatbot/blob/main/Practice_1.ipynb\" target=\"_parent\"><img src=\"https://colab.research.google.com/assets/colab-badge.svg\" alt=\"Open In Colab\"/></a>"
      ]
    },
    {
      "cell_type": "code",
      "execution_count": 1,
      "metadata": {
        "id": "3wcSuow7jT0D"
      },
      "outputs": [],
      "source": [
        "# Examples of variables\n",
        "counter = 100          # An integer assignment\n",
        "miles   = 1000.0       # A floating point\n",
        "name    = \"Python\"\n",
        "is_loan = True      # A string\n",
        "\n"
      ]
    },
    {
      "cell_type": "code",
      "source": [
        "# Output 1\n",
        "print (counter)\n",
        "print (type(counter))\n"
      ],
      "metadata": {
        "colab": {
          "base_uri": "https://localhost:8080/"
        },
        "id": "2RjM2WkQj_KJ",
        "outputId": "015d6079-03a5-4794-f47f-aa2bc57ac6bd"
      },
      "execution_count": 2,
      "outputs": [
        {
          "output_type": "stream",
          "name": "stdout",
          "text": [
            "100\n",
            "<class 'int'>\n"
          ]
        }
      ]
    },
    {
      "cell_type": "code",
      "source": [
        "# class int means that it is of integer type."
      ],
      "metadata": {
        "id": "VglGj7iYkaaY"
      },
      "execution_count": null,
      "outputs": []
    },
    {
      "cell_type": "code",
      "source": [
        "# Output 2\n",
        "print (miles)\n",
        "print (type(miles))"
      ],
      "metadata": {
        "colab": {
          "base_uri": "https://localhost:8080/"
        },
        "id": "S1ylhoVNkTbX",
        "outputId": "d625f4f0-b88c-43dc-90b7-25a073f3d9eb"
      },
      "execution_count": 3,
      "outputs": [
        {
          "output_type": "stream",
          "name": "stdout",
          "text": [
            "1000.0\n",
            "<class 'float'>\n"
          ]
        }
      ]
    },
    {
      "cell_type": "code",
      "source": [
        "# class float means that it is of float type."
      ],
      "metadata": {
        "id": "pMM8PqlSkKvQ"
      },
      "execution_count": null,
      "outputs": []
    },
    {
      "cell_type": "code",
      "source": [
        "# Output 3\n",
        "print (name)\n",
        "print (type(name))"
      ],
      "metadata": {
        "colab": {
          "base_uri": "https://localhost:8080/"
        },
        "id": "PIUaPl07jubw",
        "outputId": "c4e9471c-2ccc-450b-a762-6c054c89b40c"
      },
      "execution_count": 4,
      "outputs": [
        {
          "output_type": "stream",
          "name": "stdout",
          "text": [
            "Python\n",
            "<class 'str'>\n"
          ]
        }
      ]
    },
    {
      "cell_type": "code",
      "source": [
        "# class 'str' means that it is of string value."
      ],
      "metadata": {
        "id": "bpm_yXZ_juZR"
      },
      "execution_count": null,
      "outputs": []
    },
    {
      "cell_type": "code",
      "source": [
        "# Output 4\n",
        "print (is_loan)\n",
        "print (type(is_loan))"
      ],
      "metadata": {
        "colab": {
          "base_uri": "https://localhost:8080/"
        },
        "id": "ngQunEaNjuWZ",
        "outputId": "d96b70ce-98b2-4359-826f-fd3d5206ae29"
      },
      "execution_count": 5,
      "outputs": [
        {
          "output_type": "stream",
          "name": "stdout",
          "text": [
            "True\n",
            "<class 'bool'>\n"
          ]
        }
      ]
    },
    {
      "cell_type": "code",
      "source": [
        "# class 'bool' means that it is of boolean value."
      ],
      "metadata": {
        "id": "cq6HwBlMjuTx"
      },
      "execution_count": null,
      "outputs": []
    },
    {
      "cell_type": "code",
      "source": [
        "# if  statement\n",
        "a = 5\n",
        "if a > 0:\n",
        "  print('a is greater than 0')"
      ],
      "metadata": {
        "colab": {
          "base_uri": "https://localhost:8080/"
        },
        "id": "NqhHebG4juQ2",
        "outputId": "51f05dfb-b758-4610-eb70-bf77e0390b3c"
      },
      "execution_count": 10,
      "outputs": [
        {
          "output_type": "stream",
          "name": "stdout",
          "text": [
            "a is greater than 0\n"
          ]
        }
      ]
    },
    {
      "cell_type": "code",
      "source": [
        "'''\n",
        "Space before print() statement in the above block is called as indentation.\n",
        "Python is indent sensitive programming languaage.\n",
        "Indentattion indicates hierrarchy of code in python."
      ],
      "metadata": {
        "id": "tX7lYbj-juN4"
      },
      "execution_count": null,
      "outputs": []
    },
    {
      "cell_type": "code",
      "source": [
        "# if else statement\n",
        "a = -5\n",
        "if a > 0:\n",
        "  print('a is greater than 0')\n",
        "else:\n",
        "  print('a is less than 0')"
      ],
      "metadata": {
        "colab": {
          "base_uri": "https://localhost:8080/"
        },
        "id": "LVy6v-QhjuJh",
        "outputId": "26a9a976-eeed-4fb5-c750-092089fa107a"
      },
      "execution_count": 11,
      "outputs": [
        {
          "output_type": "stream",
          "name": "stdout",
          "text": [
            "a is less than 0\n"
          ]
        }
      ]
    },
    {
      "cell_type": "code",
      "source": [
        "# if elif else statement\n",
        "a = 0\n",
        "if a > 0:\n",
        "  print('a is greater than 0')\n",
        "elif a == 0:\n",
        "  print('a is equal to 0')\n",
        "else:\n",
        "  print('a is less than 0')"
      ],
      "metadata": {
        "colab": {
          "base_uri": "https://localhost:8080/"
        },
        "id": "qzia80tOjuCg",
        "outputId": "e4c73063-d177-4f99-cb2e-f336d8a486eb"
      },
      "execution_count": 12,
      "outputs": [
        {
          "output_type": "stream",
          "name": "stdout",
          "text": [
            "a is equal to 0\n"
          ]
        }
      ]
    },
    {
      "cell_type": "code",
      "source": [
        "# elif is the keyword which stands for else if.\n",
        "# we can have any number of elif conditions"
      ],
      "metadata": {
        "id": "1y327tvgjt3g"
      },
      "execution_count": null,
      "outputs": []
    },
    {
      "cell_type": "code",
      "source": [
        "# for() loop example\n",
        "fruits = ['apple', 'banane', 'cherry']\n",
        "for x in fruits:\n",
        "  print(x)"
      ],
      "metadata": {
        "colab": {
          "base_uri": "https://localhost:8080/"
        },
        "id": "uPP2IgwPom_3",
        "outputId": "8ce888f5-5686-4c3f-d0e2-cc525a6feb69"
      },
      "execution_count": 13,
      "outputs": [
        {
          "output_type": "stream",
          "name": "stdout",
          "text": [
            "apple\n",
            "banane\n",
            "cherry\n"
          ]
        }
      ]
    },
    {
      "cell_type": "code",
      "source": [
        "'''\n",
        "for() loop executes once for every value  in the iterable object\n",
        "x is called as an iterator  which iterates over  the values of the variable.\n",
        "'''"
      ],
      "metadata": {
        "id": "tZSXKcl9om8w"
      },
      "execution_count": null,
      "outputs": []
    },
    {
      "cell_type": "code",
      "source": [
        "# while loop example\n",
        "i = 1\n",
        "while i < 6:\n",
        "  print(i)\n",
        "  i += 1"
      ],
      "metadata": {
        "colab": {
          "base_uri": "https://localhost:8080/"
        },
        "id": "PIX8IYAFpF6C",
        "outputId": "0f1c3d9c-3aef-4404-c159-c32e85764c53"
      },
      "execution_count": 14,
      "outputs": [
        {
          "output_type": "stream",
          "name": "stdout",
          "text": [
            "1\n",
            "2\n",
            "3\n",
            "4\n",
            "5\n"
          ]
        }
      ]
    },
    {
      "cell_type": "code",
      "source": [
        "'''\n",
        "while() loop keep on getting executed until and unless the condition specified  turn false.\n",
        "we have initialise the value of i to 1\n",
        "'''"
      ],
      "metadata": {
        "id": "yFsB0mIxpF3Y"
      },
      "execution_count": null,
      "outputs": []
    },
    {
      "cell_type": "code",
      "source": [
        "# Nested loop example\n",
        "adj = ['red', 'big', 'tasty']\n",
        "fruits = ['apple', 'banana', 'cherry']\n",
        "for x in adj:\n",
        "  for y in fruits:\n",
        "    print(x, y)"
      ],
      "metadata": {
        "colab": {
          "base_uri": "https://localhost:8080/"
        },
        "id": "E6mwp9sxom50",
        "outputId": "ce71674d-655b-4a40-eb21-a2e581c66939"
      },
      "execution_count": 15,
      "outputs": [
        {
          "output_type": "stream",
          "name": "stdout",
          "text": [
            "red apple\n",
            "red banana\n",
            "red cherry\n",
            "big apple\n",
            "big banana\n",
            "big cherry\n",
            "tasty apple\n",
            "tasty banana\n",
            "tasty cherry\n"
          ]
        }
      ]
    },
    {
      "cell_type": "code",
      "source": [
        "'''\n",
        "In the first iteration, x = red and y = apple,\n",
        "In the second iteration, x = red and y = banana,\n",
        "In the third iteration, x = red and y = cherry,\n",
        "In the fourth iteration, x = big and y = apple,\n",
        "In the fifth iteration, x = big and y = banana,\n",
        "In the sixth iteration, x = big and y = cherry,\n",
        "In the seventh iteration, x = tasty and y = apple,\n",
        "In the eighth iteration, x = tasty and y = banana,\n",
        "In the ninth iteration, x = tasty and y = cherry.\n",
        "'''"
      ],
      "metadata": {
        "id": "ImVuNncWom2g"
      },
      "execution_count": null,
      "outputs": []
    },
    {
      "cell_type": "code",
      "source": [
        "# break is used to terminate  the loop in which it is placed."
      ],
      "metadata": {
        "id": "2BMkZSLKrYmf"
      },
      "execution_count": null,
      "outputs": []
    },
    {
      "cell_type": "code",
      "source": [
        "# break example 1\n",
        "for letter in 'Python':\n",
        "  if letter == 'h':\n",
        "    break\n",
        "  print('Current Letter :', letter)"
      ],
      "metadata": {
        "colab": {
          "base_uri": "https://localhost:8080/"
        },
        "id": "8acvMN5fomzp",
        "outputId": "a9bed1c0-0518-406a-8d49-ff26eba88ab8"
      },
      "execution_count": 16,
      "outputs": [
        {
          "output_type": "stream",
          "name": "stdout",
          "text": [
            "Current Letter : P\n",
            "Current Letter : y\n",
            "Current Letter : t\n"
          ]
        }
      ]
    },
    {
      "cell_type": "code",
      "source": [
        "# break example 2\n",
        "var = 10\n",
        "while var > 0:\n",
        "  print('Current variable value :', var)\n",
        "  var = var - 1\n",
        "  if var == 5:\n",
        "    break"
      ],
      "metadata": {
        "colab": {
          "base_uri": "https://localhost:8080/"
        },
        "id": "lzIQjUx5rh5H",
        "outputId": "40afb111-cda9-4a55-ccc2-8c1be80398e8"
      },
      "execution_count": 17,
      "outputs": [
        {
          "output_type": "stream",
          "name": "stdout",
          "text": [
            "Current variable value : 10\n",
            "Current variable value : 9\n",
            "Current variable value : 8\n",
            "Current variable value : 7\n",
            "Current variable value : 6\n"
          ]
        }
      ]
    },
    {
      "cell_type": "code",
      "source": [
        "# Inbuilt Functions\n"
      ],
      "metadata": {
        "id": "ymKoViRgqs25"
      },
      "execution_count": null,
      "outputs": []
    },
    {
      "cell_type": "code",
      "source": [
        "# Min() Max() Example\n",
        "print('Minimum of 4, 12, 18 :',min(4,12,18))\n",
        "print('Maximum of 4, 12, 18 :',max(4,12,18))\n"
      ],
      "metadata": {
        "colab": {
          "base_uri": "https://localhost:8080/"
        },
        "id": "czB9PQ5Aqsz6",
        "outputId": "053a811d-59e6-42fb-8831-df11a21bb9c8"
      },
      "execution_count": 26,
      "outputs": [
        {
          "output_type": "stream",
          "name": "stdout",
          "text": [
            "Minimum of 4, 12, 18 : 4\n",
            "Maximum of 4, 12, 18 : 18\n"
          ]
        }
      ]
    },
    {
      "cell_type": "code",
      "source": [
        "# Absolute Value\n",
        "print('Absolute value of -45 :',abs(-45))"
      ],
      "metadata": {
        "colab": {
          "base_uri": "https://localhost:8080/"
        },
        "id": "ZWv0ODy5s0i5",
        "outputId": "0dbb0fdf-11c3-4168-b836-76843dc91ab0"
      },
      "execution_count": 20,
      "outputs": [
        {
          "output_type": "stream",
          "name": "stdout",
          "text": [
            "Absolute value of -45 : 45\n"
          ]
        }
      ]
    },
    {
      "cell_type": "code",
      "source": [
        "# User defined Function (UDF)\n",
        "def add_numbers(x,y):\n",
        "  s = x + y\n",
        "  return s"
      ],
      "metadata": {
        "id": "4QuaRem6qsxQ"
      },
      "execution_count": 22,
      "outputs": []
    },
    {
      "cell_type": "code",
      "source": [
        "# Driver code\n",
        "add_numbers(2, 3)"
      ],
      "metadata": {
        "colab": {
          "base_uri": "https://localhost:8080/"
        },
        "id": "hrdG_kRdomwo",
        "outputId": "3e356b74-5291-430e-9a7b-c061f474896a"
      },
      "execution_count": 23,
      "outputs": [
        {
          "output_type": "execute_result",
          "data": {
            "text/plain": [
              "5"
            ]
          },
          "metadata": {},
          "execution_count": 23
        }
      ]
    },
    {
      "cell_type": "code",
      "source": [
        "# Lambda Function\n",
        "x = lambda a : a + 10\n",
        "print(x(5))"
      ],
      "metadata": {
        "colab": {
          "base_uri": "https://localhost:8080/"
        },
        "id": "Qh8aXQHDt6J7",
        "outputId": "acf977f1-3406-4e37-8765-e21052995fbe"
      },
      "execution_count": 27,
      "outputs": [
        {
          "output_type": "stream",
          "name": "stdout",
          "text": [
            "15\n"
          ]
        }
      ]
    },
    {
      "cell_type": "code",
      "source": [
        "# LAmbda funcations are used  when we have a single line body of the UDF.\n"
      ],
      "metadata": {
        "id": "RlsctcXpt6HD"
      },
      "execution_count": null,
      "outputs": []
    },
    {
      "cell_type": "code",
      "source": [
        "# lambda Function\n",
        "y = lambda a, b : a * b\n",
        "print(y(5, 6))"
      ],
      "metadata": {
        "colab": {
          "base_uri": "https://localhost:8080/"
        },
        "id": "WnbqiO5it6Ev",
        "outputId": "cd631674-5a12-4fc1-f136-263f861ae150"
      },
      "execution_count": 28,
      "outputs": [
        {
          "output_type": "stream",
          "name": "stdout",
          "text": [
            "30\n"
          ]
        }
      ]
    },
    {
      "cell_type": "code",
      "source": [
        "# lambda Function\n",
        "z = lambda a, b, c : a * b + c\n",
        "print(z(5, 6, 2))"
      ],
      "metadata": {
        "colab": {
          "base_uri": "https://localhost:8080/"
        },
        "id": "6vc5obxgt6CH",
        "outputId": "b6b24017-ef8d-4d2a-f761-fae3f26ede30"
      },
      "execution_count": 30,
      "outputs": [
        {
          "output_type": "stream",
          "name": "stdout",
          "text": [
            "32\n"
          ]
        }
      ]
    },
    {
      "cell_type": "code",
      "source": [
        "# Map FUnction\n",
        "# Creating a UDF\n",
        "def sqr(n):\n",
        "  return n ** 2"
      ],
      "metadata": {
        "id": "kXqKWV1JutP_"
      },
      "execution_count": 33,
      "outputs": []
    },
    {
      "cell_type": "code",
      "source": [
        "# We will create a list\n",
        "nums = [1, 2, 3, 4, 5]"
      ],
      "metadata": {
        "id": "yOMf2M4VvCkh"
      },
      "execution_count": 34,
      "outputs": []
    },
    {
      "cell_type": "code",
      "source": [
        "## MApping the function\n",
        "res = map(sqr, nums)\n",
        "print(list(res))"
      ],
      "metadata": {
        "colab": {
          "base_uri": "https://localhost:8080/"
        },
        "id": "j_d71qZdvChg",
        "outputId": "1676be93-96a7-4386-f7c0-65356a4c6948"
      },
      "execution_count": 37,
      "outputs": [
        {
          "output_type": "stream",
          "name": "stdout",
          "text": [
            "[1, 4, 9, 16, 25]\n"
          ]
        }
      ]
    },
    {
      "cell_type": "code",
      "source": [
        "# FIlter FUnction Example\n",
        "ages = [5, 12, 15, 18, 20,25]"
      ],
      "metadata": {
        "id": "cSjZgeGYvhy5"
      },
      "execution_count": 40,
      "outputs": []
    },
    {
      "cell_type": "code",
      "source": [
        "## Creating  a function\n",
        "def myFunc(x):\n",
        "  if x < 18:\n",
        "    return False\n",
        "  else:\n",
        "    return True"
      ],
      "metadata": {
        "id": "jsA_LccmvhwQ"
      },
      "execution_count": 41,
      "outputs": []
    },
    {
      "cell_type": "code",
      "source": [
        "# Using the Filter function\n",
        "adults = filter(myFunc, ages)\n",
        "print(list(adults))"
      ],
      "metadata": {
        "colab": {
          "base_uri": "https://localhost:8080/"
        },
        "id": "x9YEWD9tvhqI",
        "outputId": "f884cea2-8214-4f62-ee02-21e8837ef964"
      },
      "execution_count": 42,
      "outputs": [
        {
          "output_type": "stream",
          "name": "stdout",
          "text": [
            "[18, 20, 25]\n"
          ]
        }
      ]
    },
    {
      "cell_type": "code",
      "source": [
        "# String Operation and Manipulation"
      ],
      "metadata": {
        "id": "QuFCFpJWv-pA"
      },
      "execution_count": null,
      "outputs": []
    },
    {
      "cell_type": "code",
      "source": [
        "# creating a String\n",
        "s = 'Python'\n",
        "print(s)\n",
        "print(type(s))"
      ],
      "metadata": {
        "colab": {
          "base_uri": "https://localhost:8080/"
        },
        "id": "Jd1aVCIWv-l_",
        "outputId": "04eb6742-f601-4d91-a3f2-bbe243d811de"
      },
      "execution_count": 43,
      "outputs": [
        {
          "output_type": "stream",
          "name": "stdout",
          "text": [
            "Python\n",
            "<class 'str'>\n"
          ]
        }
      ]
    },
    {
      "cell_type": "code",
      "source": [
        "# Strings are indexed in python starting from 0."
      ],
      "metadata": {
        "id": "vRpiKM0Vv-jZ"
      },
      "execution_count": null,
      "outputs": []
    },
    {
      "cell_type": "code",
      "source": [
        "# Accessing the elements of string through indexes\n",
        "print('First element:', s[0])"
      ],
      "metadata": {
        "colab": {
          "base_uri": "https://localhost:8080/"
        },
        "id": "1FU9cFmnwTXh",
        "outputId": "85f6a1ac-b18d-43c2-c894-50c550bd5868"
      },
      "execution_count": 44,
      "outputs": [
        {
          "output_type": "stream",
          "name": "stdout",
          "text": [
            "First element: P\n"
          ]
        }
      ]
    },
    {
      "cell_type": "code",
      "source": [
        "# Accessing the elementsfrom right\n",
        "print('Last element:', s[-1])"
      ],
      "metadata": {
        "colab": {
          "base_uri": "https://localhost:8080/"
        },
        "id": "60mRbovkwTT4",
        "outputId": "e79b0d3b-0a8d-487a-e5ee-784b983e3c9f"
      },
      "execution_count": 45,
      "outputs": [
        {
          "output_type": "stream",
          "name": "stdout",
          "text": [
            "Last element: n\n"
          ]
        }
      ]
    },
    {
      "cell_type": "code",
      "source": [
        "# Negative Indexing means you are moving from right to left.\n",
        "# Positive Indexing means  you are moving from left to right."
      ],
      "metadata": {
        "id": "iI46jBXjwTQg"
      },
      "execution_count": null,
      "outputs": []
    },
    {
      "cell_type": "code",
      "source": [
        "# Question ->\n",
        "s = 'Python'\n",
        "print(s[3])"
      ],
      "metadata": {
        "colab": {
          "base_uri": "https://localhost:8080/"
        },
        "id": "WsfS-nBwwn5p",
        "outputId": "61451c20-1d43-42f0-bcac-441f3ac10c64"
      },
      "execution_count": 46,
      "outputs": [
        {
          "output_type": "stream",
          "name": "stdout",
          "text": [
            "h\n"
          ]
        }
      ]
    },
    {
      "cell_type": "code",
      "source": [
        "# Question ->\n",
        "s = 'Python'\n",
        "print(s[-3])"
      ],
      "metadata": {
        "colab": {
          "base_uri": "https://localhost:8080/"
        },
        "id": "KD4cG0Oewn2x",
        "outputId": "c23bd98b-3360-4fa8-eb7c-cd85444809cf"
      },
      "execution_count": 47,
      "outputs": [
        {
          "output_type": "stream",
          "name": "stdout",
          "text": [
            "h\n"
          ]
        }
      ]
    },
    {
      "cell_type": "code",
      "source": [
        "# Concept of SLicing -> (start index : stop index)\n",
        "# ELement at the stopping index is not inculded."
      ],
      "metadata": {
        "id": "N2JHfcxexFaF"
      },
      "execution_count": null,
      "outputs": []
    },
    {
      "cell_type": "code",
      "source": [
        "# Exmaple\n",
        "s = 'Procastination'\n",
        "print(s[2:5])"
      ],
      "metadata": {
        "colab": {
          "base_uri": "https://localhost:8080/"
        },
        "id": "m5yI6_OlxFWb",
        "outputId": "e5ecf8d2-547e-4a6e-8e1f-b8e26c6b14a5"
      },
      "execution_count": 48,
      "outputs": [
        {
          "output_type": "stream",
          "name": "stdout",
          "text": [
            "oca\n"
          ]
        }
      ]
    },
    {
      "cell_type": "code",
      "source": [
        "# Exmaple\n",
        "s = 'Procastination'\n",
        "print(s[4:9])"
      ],
      "metadata": {
        "colab": {
          "base_uri": "https://localhost:8080/"
        },
        "id": "EuxhlwsLxFSv",
        "outputId": "cf4f81a1-00a9-4f40-c71e-a445894fc2a3"
      },
      "execution_count": 49,
      "outputs": [
        {
          "output_type": "stream",
          "name": "stdout",
          "text": [
            "astin\n"
          ]
        }
      ]
    },
    {
      "cell_type": "code",
      "source": [
        "# Concept of step in slicing  -> STring[start : stop : step]\n",
        "s = 'Procastination'\n",
        "print(s[2:9:2])"
      ],
      "metadata": {
        "colab": {
          "base_uri": "https://localhost:8080/"
        },
        "id": "nXQucALexnjT",
        "outputId": "f5c2cd1d-01a5-4fe1-f9e5-ab1072ddb649"
      },
      "execution_count": 50,
      "outputs": [
        {
          "output_type": "stream",
          "name": "stdout",
          "text": [
            "oatn\n"
          ]
        }
      ]
    },
    {
      "cell_type": "code",
      "source": [
        "# Default value of step is 1"
      ],
      "metadata": {
        "id": "C1iWoD6HxngQ"
      },
      "execution_count": null,
      "outputs": []
    },
    {
      "cell_type": "code",
      "source": [
        "# Deleting a string\n",
        "s = 'Python'\n",
        "print('Output :', s)\n",
        "del s\n",
        "print('Output :', s)"
      ],
      "metadata": {
        "colab": {
          "base_uri": "https://localhost:8080/",
          "height": 193
        },
        "id": "6LUAXeehxndR",
        "outputId": "979001dd-34be-40c8-e991-a32d3eaca5d3"
      },
      "execution_count": 53,
      "outputs": [
        {
          "output_type": "stream",
          "name": "stdout",
          "text": [
            "Output : Python\n"
          ]
        },
        {
          "output_type": "error",
          "ename": "NameError",
          "evalue": "name 's' is not defined",
          "traceback": [
            "\u001b[0;31m---------------------------------------------------------------------------\u001b[0m",
            "\u001b[0;31mNameError\u001b[0m                                 Traceback (most recent call last)",
            "\u001b[0;32m<ipython-input-53-f6c2efc93265>\u001b[0m in \u001b[0;36m<cell line: 0>\u001b[0;34m()\u001b[0m\n\u001b[1;32m      3\u001b[0m \u001b[0mprint\u001b[0m\u001b[0;34m(\u001b[0m\u001b[0;34m'Output :'\u001b[0m\u001b[0;34m,\u001b[0m \u001b[0ms\u001b[0m\u001b[0;34m)\u001b[0m\u001b[0;34m\u001b[0m\u001b[0;34m\u001b[0m\u001b[0m\n\u001b[1;32m      4\u001b[0m \u001b[0;32mdel\u001b[0m \u001b[0ms\u001b[0m\u001b[0;34m\u001b[0m\u001b[0;34m\u001b[0m\u001b[0m\n\u001b[0;32m----> 5\u001b[0;31m \u001b[0mprint\u001b[0m\u001b[0;34m(\u001b[0m\u001b[0;34m'Output :'\u001b[0m\u001b[0;34m,\u001b[0m \u001b[0ms\u001b[0m\u001b[0;34m)\u001b[0m\u001b[0;34m\u001b[0m\u001b[0;34m\u001b[0m\u001b[0m\n\u001b[0m",
            "\u001b[0;31mNameError\u001b[0m: name 's' is not defined"
          ]
        }
      ]
    },
    {
      "cell_type": "code",
      "source": [
        "# Formatting strings -> Python provides  different ways  to include objects in strings\n",
        "name = 'Avishek'\n",
        "age = 27\n",
        "print(f\"Name : {name}, Age :', {age}\")"
      ],
      "metadata": {
        "colab": {
          "base_uri": "https://localhost:8080/"
        },
        "id": "7m_EKxYA20dw",
        "outputId": "85b54444-b9c6-467f-89e8-afecfc7477be"
      },
      "execution_count": 54,
      "outputs": [
        {
          "output_type": "stream",
          "name": "stdout",
          "text": [
            "Name : Avishek, Age :', 27\n"
          ]
        }
      ]
    },
    {
      "cell_type": "code",
      "source": [
        "# Format()\n",
        "s = \"My name is {} and I am {} years old\". format(\"Avishek\", 27)\n",
        "print(s)"
      ],
      "metadata": {
        "colab": {
          "base_uri": "https://localhost:8080/"
        },
        "id": "MMePYQv33PGn",
        "outputId": "d8732aa5-1759-4975-92cf-87ead3425264"
      },
      "execution_count": 55,
      "outputs": [
        {
          "output_type": "stream",
          "name": "stdout",
          "text": [
            "My name is Avishek and I am 27 years old\n"
          ]
        }
      ]
    },
    {
      "cell_type": "code",
      "source": [
        "# Basic Data Structure-> Lists, Tuple, Set, Dictionary"
      ],
      "metadata": {
        "id": "sPPWL_wQ3gvg"
      },
      "execution_count": null,
      "outputs": []
    },
    {
      "cell_type": "code",
      "source": [
        "'''\n",
        "Python Lists are Heterogenous (elements of different data types  can be accomodated in it)\n",
        "Ordered (Sequence in which you give the data to a list, it preserves that order),\n",
        "Mutable (values can be changed once you initialize the list),\n",
        "They are declared with square brackets\n",
        "'''"
      ],
      "metadata": {
        "id": "Y5DDtZhl3qNf"
      },
      "execution_count": null,
      "outputs": []
    },
    {
      "cell_type": "code",
      "source": [
        "# Creating a list\n",
        "a = [1,2,3,4,5]\n",
        "print(a)\n",
        "print(type(a))"
      ],
      "metadata": {
        "colab": {
          "base_uri": "https://localhost:8080/"
        },
        "id": "VI1TNmoU3qK3",
        "outputId": "1112929c-699e-4bf8-c2bf-edb0f0f6009d"
      },
      "execution_count": 56,
      "outputs": [
        {
          "output_type": "stream",
          "name": "stdout",
          "text": [
            "[1, 2, 3, 4, 5]\n",
            "<class 'list'>\n"
          ]
        }
      ]
    },
    {
      "cell_type": "code",
      "source": [
        "# Lists are Mutable\n",
        "Is = ['a', 'b', 'c', 'd', 'e']\n",
        "print('Actual List :', Is)\n",
        "Is[0] = 'p'\n",
        "print('Updated List: ', Is)"
      ],
      "metadata": {
        "colab": {
          "base_uri": "https://localhost:8080/"
        },
        "id": "mZQ0cf7C3qIP",
        "outputId": "9b9216b7-46e5-44cb-fc46-48e7007a28c5"
      },
      "execution_count": 57,
      "outputs": [
        {
          "output_type": "stream",
          "name": "stdout",
          "text": [
            "Actual List : ['a', 'b', 'c', 'd', 'e']\n",
            "Updated List:  ['p', 'b', 'c', 'd', 'e']\n"
          ]
        }
      ]
    },
    {
      "cell_type": "code",
      "source": [
        "# Append Operation\n",
        "a = [10, 15, 20]\n",
        "print('Actual List :', a)\n",
        "a.append(25)\n",
        "print('Updated List: ', a)"
      ],
      "metadata": {
        "colab": {
          "base_uri": "https://localhost:8080/"
        },
        "id": "gkIefmby3qFG",
        "outputId": "63580d71-9abd-47a1-95ad-68ea36c61cf2"
      },
      "execution_count": 59,
      "outputs": [
        {
          "output_type": "stream",
          "name": "stdout",
          "text": [
            "Actual List : [10, 15, 20]\n",
            "Updated List:  [10, 15, 20, 25]\n"
          ]
        }
      ]
    },
    {
      "cell_type": "code",
      "source": [
        "# Lists are Heterogenous\n",
        "a = [1, 5.0, 'Python', True]\n",
        "print(a)\n",
        "print(type(a))\n"
      ],
      "metadata": {
        "colab": {
          "base_uri": "https://localhost:8080/"
        },
        "id": "CWrwDQpx3qA8",
        "outputId": "017c1ea8-ba58-445a-c536-255de9ebb560"
      },
      "execution_count": 61,
      "outputs": [
        {
          "output_type": "stream",
          "name": "stdout",
          "text": [
            "[1, 5.0, 'Python', True]\n",
            "<class 'list'>\n"
          ]
        }
      ]
    },
    {
      "cell_type": "code",
      "source": [
        "# lists allow duplicate entries\n",
        "a = [1,1,1,2,2,23,3,4,4,5]\n",
        "print(a)\n",
        "print(type(a))"
      ],
      "metadata": {
        "colab": {
          "base_uri": "https://localhost:8080/"
        },
        "id": "RER73B5B5XrB",
        "outputId": "be15181f-b474-4ee0-fa75-1b395430352f"
      },
      "execution_count": 62,
      "outputs": [
        {
          "output_type": "stream",
          "name": "stdout",
          "text": [
            "[1, 1, 1, 2, 2, 23, 3, 4, 4, 5]\n",
            "<class 'list'>\n"
          ]
        }
      ]
    },
    {
      "cell_type": "code",
      "source": [
        "# Accessing the elements of the lists through indexing\n",
        "Is = ['a', 'b', 'c', 'd', 'e']\n",
        "print('First Elemsnt :', Is[0])\n",
        "print('Last Element :', Is[-1])"
      ],
      "metadata": {
        "colab": {
          "base_uri": "https://localhost:8080/"
        },
        "id": "ZriaUBfl5Xml",
        "outputId": "fa83d2d3-ba85-44d3-f4de-82da122ac1f2"
      },
      "execution_count": 63,
      "outputs": [
        {
          "output_type": "stream",
          "name": "stdout",
          "text": [
            "First Elemsnt : a\n",
            "Last Element : e\n"
          ]
        }
      ]
    },
    {
      "cell_type": "code",
      "source": [
        "# insert(index, element)\n",
        "a = [100,200,300,400,500]\n",
        "print('Actual List :', a)\n",
        "a.insert(2, 300)\n",
        "print('Updated List :', a)"
      ],
      "metadata": {
        "colab": {
          "base_uri": "https://localhost:8080/"
        },
        "id": "dZQlZ4s76VIJ",
        "outputId": "64a23f83-3e8a-4dcb-d466-d71839fc4742"
      },
      "execution_count": 64,
      "outputs": [
        {
          "output_type": "stream",
          "name": "stdout",
          "text": [
            "Actual List : [100, 200, 300, 400, 500]\n",
            "Updated List : [100, 200, 300, 300, 400, 500]\n"
          ]
        }
      ]
    },
    {
      "cell_type": "code",
      "source": [
        "# extend() method\n",
        "a = [100,200,300,400,500]\n",
        "print('Actual List :', a)\n",
        "a.extend([600,700,800])\n",
        "print('Updated List :', a)"
      ],
      "metadata": {
        "colab": {
          "base_uri": "https://localhost:8080/"
        },
        "id": "M5olsspb6VFv",
        "outputId": "2b7fa221-e5e2-4411-c988-0c8c04ebad35"
      },
      "execution_count": 65,
      "outputs": [
        {
          "output_type": "stream",
          "name": "stdout",
          "text": [
            "Actual List : [100, 200, 300, 400, 500]\n",
            "Updated List : [100, 200, 300, 400, 500, 600, 700, 800]\n"
          ]
        }
      ]
    },
    {
      "cell_type": "code",
      "source": [
        "# Removing elements from a list\n",
        "a = [100,200,300,400,500]\n",
        "print('Actual List :', a)\n",
        "a.remove(300)\n",
        "print('Updated List :', a)"
      ],
      "metadata": {
        "colab": {
          "base_uri": "https://localhost:8080/"
        },
        "id": "8GxAmIPE5Xjp",
        "outputId": "fe794647-897c-4589-8334-735cf8ca9e4a"
      },
      "execution_count": 66,
      "outputs": [
        {
          "output_type": "stream",
          "name": "stdout",
          "text": [
            "Actual List : [100, 200, 300, 400, 500]\n",
            "Updated List : [100, 200, 400, 500]\n"
          ]
        }
      ]
    },
    {
      "cell_type": "code",
      "source": [
        "# Removing the elements from a list\n",
        "a = [100,200,300,400,500]\n",
        "print('Actual List :', a)\n",
        "del a[3]\n",
        "print('Updated List :', a)"
      ],
      "metadata": {
        "colab": {
          "base_uri": "https://localhost:8080/"
        },
        "id": "EUWdWU5k3p6Y",
        "outputId": "333da5ed-62d9-4582-bfef-878b8c3b2486"
      },
      "execution_count": 67,
      "outputs": [
        {
          "output_type": "stream",
          "name": "stdout",
          "text": [
            "Actual List : [100, 200, 300, 400, 500]\n",
            "Updated List : [100, 200, 300, 500]\n"
          ]
        }
      ]
    },
    {
      "cell_type": "code",
      "source": [
        "# Doubt\n",
        "a = [100,200,300,400,500]\n",
        "print('Actual List :', a)\n",
        "del a\n",
        "print('Updated List :', a)"
      ],
      "metadata": {
        "colab": {
          "base_uri": "https://localhost:8080/",
          "height": 193
        },
        "id": "9ZCnrG717m2A",
        "outputId": "9634b48d-7076-4313-d26e-b24533ec03ed"
      },
      "execution_count": 68,
      "outputs": [
        {
          "output_type": "stream",
          "name": "stdout",
          "text": [
            "Actual List : [100, 200, 300, 400, 500]\n"
          ]
        },
        {
          "output_type": "error",
          "ename": "NameError",
          "evalue": "name 'a' is not defined",
          "traceback": [
            "\u001b[0;31m---------------------------------------------------------------------------\u001b[0m",
            "\u001b[0;31mNameError\u001b[0m                                 Traceback (most recent call last)",
            "\u001b[0;32m<ipython-input-68-9561ef9fc068>\u001b[0m in \u001b[0;36m<cell line: 0>\u001b[0;34m()\u001b[0m\n\u001b[1;32m      3\u001b[0m \u001b[0mprint\u001b[0m\u001b[0;34m(\u001b[0m\u001b[0;34m'Actual List :'\u001b[0m\u001b[0;34m,\u001b[0m \u001b[0ma\u001b[0m\u001b[0;34m)\u001b[0m\u001b[0;34m\u001b[0m\u001b[0;34m\u001b[0m\u001b[0m\n\u001b[1;32m      4\u001b[0m \u001b[0;32mdel\u001b[0m \u001b[0ma\u001b[0m\u001b[0;34m\u001b[0m\u001b[0;34m\u001b[0m\u001b[0m\n\u001b[0;32m----> 5\u001b[0;31m \u001b[0mprint\u001b[0m\u001b[0;34m(\u001b[0m\u001b[0;34m'Updated List :'\u001b[0m\u001b[0;34m,\u001b[0m \u001b[0ma\u001b[0m\u001b[0;34m)\u001b[0m\u001b[0;34m\u001b[0m\u001b[0;34m\u001b[0m\u001b[0m\n\u001b[0m",
            "\u001b[0;31mNameError\u001b[0m: name 'a' is not defined"
          ]
        }
      ]
    },
    {
      "cell_type": "code",
      "source": [
        "'''\n",
        "Python tuples are Heterogenous (elements of different data types  can be accomodated in it)\n",
        "Ordered (Sequence in which you give the data to a list, it preserves that order),\n",
        "Mutable (values cannot be changed once you initialize the tuple),\n",
        "They are declared with round brackets()\n",
        "'''"
      ],
      "metadata": {
        "id": "QNqgESZY7A2a"
      },
      "execution_count": null,
      "outputs": []
    },
    {
      "cell_type": "code",
      "source": [
        "# Tuples are immutable\n",
        "a = (1,2,3,4,5)\n",
        "print('Actual Tuple :', a)\n",
        "a[0] = 10\n",
        "print('Updated Tuple :', a)\n"
      ],
      "metadata": {
        "colab": {
          "base_uri": "https://localhost:8080/",
          "height": 210
        },
        "id": "aFbyVbFQ7AvL",
        "outputId": "e571c91c-75cd-43a9-b74e-446167300e12"
      },
      "execution_count": 70,
      "outputs": [
        {
          "output_type": "stream",
          "name": "stdout",
          "text": [
            "Actual Tuple : (1, 2, 3, 4, 5)\n"
          ]
        },
        {
          "output_type": "error",
          "ename": "TypeError",
          "evalue": "'tuple' object does not support item assignment",
          "traceback": [
            "\u001b[0;31m---------------------------------------------------------------------------\u001b[0m",
            "\u001b[0;31mTypeError\u001b[0m                                 Traceback (most recent call last)",
            "\u001b[0;32m<ipython-input-70-bc9b847a8cc2>\u001b[0m in \u001b[0;36m<cell line: 0>\u001b[0;34m()\u001b[0m\n\u001b[1;32m      2\u001b[0m \u001b[0ma\u001b[0m \u001b[0;34m=\u001b[0m \u001b[0;34m(\u001b[0m\u001b[0;36m1\u001b[0m\u001b[0;34m,\u001b[0m\u001b[0;36m2\u001b[0m\u001b[0;34m,\u001b[0m\u001b[0;36m3\u001b[0m\u001b[0;34m,\u001b[0m\u001b[0;36m4\u001b[0m\u001b[0;34m,\u001b[0m\u001b[0;36m5\u001b[0m\u001b[0;34m)\u001b[0m\u001b[0;34m\u001b[0m\u001b[0;34m\u001b[0m\u001b[0m\n\u001b[1;32m      3\u001b[0m \u001b[0mprint\u001b[0m\u001b[0;34m(\u001b[0m\u001b[0;34m'Actual Tuple :'\u001b[0m\u001b[0;34m,\u001b[0m \u001b[0ma\u001b[0m\u001b[0;34m)\u001b[0m\u001b[0;34m\u001b[0m\u001b[0;34m\u001b[0m\u001b[0m\n\u001b[0;32m----> 4\u001b[0;31m \u001b[0ma\u001b[0m\u001b[0;34m[\u001b[0m\u001b[0;36m0\u001b[0m\u001b[0;34m]\u001b[0m \u001b[0;34m=\u001b[0m \u001b[0;36m10\u001b[0m\u001b[0;34m\u001b[0m\u001b[0;34m\u001b[0m\u001b[0m\n\u001b[0m\u001b[1;32m      5\u001b[0m \u001b[0mprint\u001b[0m\u001b[0;34m(\u001b[0m\u001b[0;34m'Updated Tuple :'\u001b[0m\u001b[0;34m,\u001b[0m \u001b[0ma\u001b[0m\u001b[0;34m)\u001b[0m\u001b[0;34m\u001b[0m\u001b[0;34m\u001b[0m\u001b[0m\n",
            "\u001b[0;31mTypeError\u001b[0m: 'tuple' object does not support item assignment"
          ]
        }
      ]
    },
    {
      "cell_type": "code",
      "source": [
        "# Accessing the elements of a tuple\n",
        "tup = ('a','b','c','d','e')\n",
        "print('Tuple:', tup)\n",
        "print('First Element :', tup[0])\n",
        "print('Last Element :', tup[-1])"
      ],
      "metadata": {
        "colab": {
          "base_uri": "https://localhost:8080/"
        },
        "id": "4_nkQC8d8Sjh",
        "outputId": "db27a6a1-2342-4dcc-feba-498211df824d"
      },
      "execution_count": 71,
      "outputs": [
        {
          "output_type": "stream",
          "name": "stdout",
          "text": [
            "Tuple: ('a', 'b', 'c', 'd', 'e')\n",
            "First Element : a\n",
            "Last Element : e\n"
          ]
        }
      ]
    },
    {
      "cell_type": "code",
      "source": [
        "# Slicing a tuple\n",
        "t = (1,2,3,4,5,6,7,8,9,10)\n",
        "print(t[2:5])"
      ],
      "metadata": {
        "colab": {
          "base_uri": "https://localhost:8080/"
        },
        "id": "zm0nWK0R8q01",
        "outputId": "d830b11d-58e4-4e32-df08-a229056a4ecf"
      },
      "execution_count": 72,
      "outputs": [
        {
          "output_type": "stream",
          "name": "stdout",
          "text": [
            "(3, 4, 5)\n"
          ]
        }
      ]
    },
    {
      "cell_type": "code",
      "source": [
        "# WHile slicing last element is not included"
      ],
      "metadata": {
        "id": "Pv7pFfK28qyL"
      },
      "execution_count": null,
      "outputs": []
    },
    {
      "cell_type": "code",
      "source": [
        "# Getting the length of a tuple\n",
        "t = (1,2,3,4,5,6,7,8,9,10)\n",
        "print(len(t))"
      ],
      "metadata": {
        "colab": {
          "base_uri": "https://localhost:8080/"
        },
        "id": "gFs36XP78qvP",
        "outputId": "632ed7c0-f66d-4a16-af30-6ba8d7d4790f"
      },
      "execution_count": 73,
      "outputs": [
        {
          "output_type": "stream",
          "name": "stdout",
          "text": [
            "10\n"
          ]
        }
      ]
    },
    {
      "cell_type": "code",
      "source": [
        "# Converting a list to a tuple\n",
        "a = [1,2,3]\n",
        "print(a)\n",
        "print(type(a))\n",
        "b = tuple(a)\n",
        "print(b)\n",
        "print(type(b))"
      ],
      "metadata": {
        "colab": {
          "base_uri": "https://localhost:8080/"
        },
        "id": "KudmGib98qsf",
        "outputId": "93668efe-9939-48e8-bf0d-b4a155b87ef1"
      },
      "execution_count": 74,
      "outputs": [
        {
          "output_type": "stream",
          "name": "stdout",
          "text": [
            "[1, 2, 3]\n",
            "<class 'list'>\n",
            "(1, 2, 3)\n",
            "<class 'tuple'>\n"
          ]
        }
      ]
    },
    {
      "cell_type": "code",
      "source": [
        "'''\n",
        "Python sets are Heterogenous (elements of different data types  can be accomodated in it)\n",
        "Unordered (Sequence in which you give the data to a set, it does not preserve that order),\n",
        "Immutable (values cannot be changed once you initialize the set),\n",
        "They are declared with curly brackets{} or with set()\n",
        "Sets do not allow duplicate values in them.\n",
        "'''"
      ],
      "metadata": {
        "id": "sTgC7B0b9YFh"
      },
      "execution_count": null,
      "outputs": []
    },
    {
      "cell_type": "code",
      "source": [
        "# Creating a set\n",
        "a = {1,2,3,4,5}\n",
        "print('Set :', a)\n",
        "print('Type :', type(a))\n"
      ],
      "metadata": {
        "colab": {
          "base_uri": "https://localhost:8080/"
        },
        "id": "68CJlL1E9YCx",
        "outputId": "ebf253f0-9392-4454-f0cd-034184ecdb01"
      },
      "execution_count": 75,
      "outputs": [
        {
          "output_type": "stream",
          "name": "stdout",
          "text": [
            "Set : {1, 2, 3, 4, 5}\n",
            "Type : <class 'set'>\n"
          ]
        }
      ]
    },
    {
      "cell_type": "code",
      "source": [
        "# Sets  do not allow  duplicate values in them.\n",
        "a = {1,2,3,4,5,1,2,3,4,5}\n",
        "print('Set :', a)\n",
        "print('Type :', type(a))"
      ],
      "metadata": {
        "colab": {
          "base_uri": "https://localhost:8080/"
        },
        "id": "MT1AEJUm9X_4",
        "outputId": "06a765b9-3b2b-4e14-a44d-ab9786e4acf2"
      },
      "execution_count": 76,
      "outputs": [
        {
          "output_type": "stream",
          "name": "stdout",
          "text": [
            "Set : {1, 2, 3, 4, 5}\n",
            "Type : <class 'set'>\n"
          ]
        }
      ]
    },
    {
      "cell_type": "code",
      "source": [
        "# Sets are unordered\n",
        "a = {3,1,2,4,5,9,3,2}\n",
        "print('Set :', a)\n",
        "print('Type :', type(a))"
      ],
      "metadata": {
        "colab": {
          "base_uri": "https://localhost:8080/"
        },
        "id": "DVZTdQkr-Hc_",
        "outputId": "681b0d00-89d1-43eb-e396-7eaa818ce520"
      },
      "execution_count": 77,
      "outputs": [
        {
          "output_type": "stream",
          "name": "stdout",
          "text": [
            "Set : {1, 2, 3, 4, 5, 9}\n",
            "Type : <class 'set'>\n"
          ]
        }
      ]
    },
    {
      "cell_type": "code",
      "source": [
        "'''\n",
        "The Order in which data is given  and\n",
        "the order in which data is retrieved is not same.\n",
        "'''"
      ],
      "metadata": {
        "id": "y8zroUrR-HaR"
      },
      "execution_count": null,
      "outputs": []
    },
    {
      "cell_type": "code",
      "source": [
        "# Sets cannot be indexed\n",
        "set1 = {'a','b','c','d','e'}\n",
        "print('First Element :', set1[0])"
      ],
      "metadata": {
        "colab": {
          "base_uri": "https://localhost:8080/",
          "height": 176
        },
        "id": "z6BjMLeh-qoc",
        "outputId": "2d4a8f94-ab14-4041-c80c-898371e8a842"
      },
      "execution_count": 78,
      "outputs": [
        {
          "output_type": "error",
          "ename": "TypeError",
          "evalue": "'set' object is not subscriptable",
          "traceback": [
            "\u001b[0;31m---------------------------------------------------------------------------\u001b[0m",
            "\u001b[0;31mTypeError\u001b[0m                                 Traceback (most recent call last)",
            "\u001b[0;32m<ipython-input-78-807e0a1c97cc>\u001b[0m in \u001b[0;36m<cell line: 0>\u001b[0;34m()\u001b[0m\n\u001b[1;32m      1\u001b[0m \u001b[0;31m# Sets cannot be indexed\u001b[0m\u001b[0;34m\u001b[0m\u001b[0;34m\u001b[0m\u001b[0m\n\u001b[1;32m      2\u001b[0m \u001b[0mset1\u001b[0m \u001b[0;34m=\u001b[0m \u001b[0;34m{\u001b[0m\u001b[0;34m'a'\u001b[0m\u001b[0;34m,\u001b[0m\u001b[0;34m'b'\u001b[0m\u001b[0;34m,\u001b[0m\u001b[0;34m'c'\u001b[0m\u001b[0;34m,\u001b[0m\u001b[0;34m'd'\u001b[0m\u001b[0;34m,\u001b[0m\u001b[0;34m'e'\u001b[0m\u001b[0;34m}\u001b[0m\u001b[0;34m\u001b[0m\u001b[0;34m\u001b[0m\u001b[0m\n\u001b[0;32m----> 3\u001b[0;31m \u001b[0mprint\u001b[0m\u001b[0;34m(\u001b[0m\u001b[0;34m'First Element :'\u001b[0m\u001b[0;34m,\u001b[0m \u001b[0mset1\u001b[0m\u001b[0;34m[\u001b[0m\u001b[0;36m0\u001b[0m\u001b[0;34m]\u001b[0m\u001b[0;34m)\u001b[0m\u001b[0;34m\u001b[0m\u001b[0;34m\u001b[0m\u001b[0m\n\u001b[0m",
            "\u001b[0;31mTypeError\u001b[0m: 'set' object is not subscriptable"
          ]
        }
      ]
    },
    {
      "cell_type": "code",
      "source": [
        "# add() method  in sets\n",
        "set1  = {1,2,3}\n",
        "print('Actual Set :', set1)\n",
        "set1.add('5')\n",
        "print('Updated Set :', set1)"
      ],
      "metadata": {
        "colab": {
          "base_uri": "https://localhost:8080/"
        },
        "id": "4LONqQMT-qlp",
        "outputId": "bc0d12a9-1ba8-438a-c882-4e399600d6b3"
      },
      "execution_count": 79,
      "outputs": [
        {
          "output_type": "stream",
          "name": "stdout",
          "text": [
            "Actual Set : {1, 2, 3}\n",
            "Updated Set : {1, 2, 3, '5'}\n"
          ]
        }
      ]
    },
    {
      "cell_type": "code",
      "source": [
        "# update() method in sets\n",
        "set1  = {1,2,3}\n",
        "print('Actual Set :', set1)\n",
        "set1.update([4,5,6])\n",
        "print('Updated Set :', set1)"
      ],
      "metadata": {
        "colab": {
          "base_uri": "https://localhost:8080/"
        },
        "id": "IF6tQaIR-qix",
        "outputId": "fbcf4001-69cc-4409-926e-e9d102e77f5d"
      },
      "execution_count": 80,
      "outputs": [
        {
          "output_type": "stream",
          "name": "stdout",
          "text": [
            "Actual Set : {1, 2, 3}\n",
            "Updated Set : {1, 2, 3, 4, 5, 6}\n"
          ]
        }
      ]
    },
    {
      "cell_type": "code",
      "source": [
        "# Are sets heterogenous?\n",
        "set1 = {1, 5.0, 'Python', True}\n",
        "print(set1)\n",
        "print(type(set1))\n"
      ],
      "metadata": {
        "colab": {
          "base_uri": "https://localhost:8080/"
        },
        "id": "YbhZzUlG8qpo",
        "outputId": "a1872000-d508-4925-9375-c3ea5f045072"
      },
      "execution_count": 81,
      "outputs": [
        {
          "output_type": "stream",
          "name": "stdout",
          "text": [
            "{1, 5.0, 'Python'}\n",
            "<class 'set'>\n"
          ]
        }
      ]
    },
    {
      "cell_type": "code",
      "source": [
        "# Using remove() method\n",
        "set1 = {1,2,3,4,5}\n",
        "print('Actual Set :', set1)\n",
        "set1.remove(4)\n",
        "print('Updated Set :', set1)"
      ],
      "metadata": {
        "colab": {
          "base_uri": "https://localhost:8080/"
        },
        "id": "ax9_ir-c_lvE",
        "outputId": "9188ff74-9603-44ff-ac07-8346db85a7eb"
      },
      "execution_count": 82,
      "outputs": [
        {
          "output_type": "stream",
          "name": "stdout",
          "text": [
            "Actual Set : {1, 2, 3, 4, 5}\n",
            "Updated Set : {1, 2, 3, 5}\n"
          ]
        }
      ]
    },
    {
      "cell_type": "code",
      "source": [
        "# # Using remove() method\n",
        "set1 = {1,2,3,4,5}\n",
        "print('Actual Set :', set1)\n",
        "set1.remove(7)\n",
        "print('Updated Set :', set1)"
      ],
      "metadata": {
        "colab": {
          "base_uri": "https://localhost:8080/",
          "height": 210
        },
        "id": "WCrNny50_lsJ",
        "outputId": "8921beb2-6bc3-4ceb-82ed-e8e7a4afca21"
      },
      "execution_count": 83,
      "outputs": [
        {
          "output_type": "stream",
          "name": "stdout",
          "text": [
            "Actual Set : {1, 2, 3, 4, 5}\n"
          ]
        },
        {
          "output_type": "error",
          "ename": "KeyError",
          "evalue": "7",
          "traceback": [
            "\u001b[0;31m---------------------------------------------------------------------------\u001b[0m",
            "\u001b[0;31mKeyError\u001b[0m                                  Traceback (most recent call last)",
            "\u001b[0;32m<ipython-input-83-fad4b297dc44>\u001b[0m in \u001b[0;36m<cell line: 0>\u001b[0;34m()\u001b[0m\n\u001b[1;32m      2\u001b[0m \u001b[0mset1\u001b[0m \u001b[0;34m=\u001b[0m \u001b[0;34m{\u001b[0m\u001b[0;36m1\u001b[0m\u001b[0;34m,\u001b[0m\u001b[0;36m2\u001b[0m\u001b[0;34m,\u001b[0m\u001b[0;36m3\u001b[0m\u001b[0;34m,\u001b[0m\u001b[0;36m4\u001b[0m\u001b[0;34m,\u001b[0m\u001b[0;36m5\u001b[0m\u001b[0;34m}\u001b[0m\u001b[0;34m\u001b[0m\u001b[0;34m\u001b[0m\u001b[0m\n\u001b[1;32m      3\u001b[0m \u001b[0mprint\u001b[0m\u001b[0;34m(\u001b[0m\u001b[0;34m'Actual Set :'\u001b[0m\u001b[0;34m,\u001b[0m \u001b[0mset1\u001b[0m\u001b[0;34m)\u001b[0m\u001b[0;34m\u001b[0m\u001b[0;34m\u001b[0m\u001b[0m\n\u001b[0;32m----> 4\u001b[0;31m \u001b[0mset1\u001b[0m\u001b[0;34m.\u001b[0m\u001b[0mremove\u001b[0m\u001b[0;34m(\u001b[0m\u001b[0;36m7\u001b[0m\u001b[0;34m)\u001b[0m\u001b[0;34m\u001b[0m\u001b[0;34m\u001b[0m\u001b[0m\n\u001b[0m\u001b[1;32m      5\u001b[0m \u001b[0mprint\u001b[0m\u001b[0;34m(\u001b[0m\u001b[0;34m'Updated Set :'\u001b[0m\u001b[0;34m,\u001b[0m \u001b[0mset1\u001b[0m\u001b[0;34m)\u001b[0m\u001b[0;34m\u001b[0m\u001b[0;34m\u001b[0m\u001b[0m\n",
            "\u001b[0;31mKeyError\u001b[0m: 7"
          ]
        }
      ]
    },
    {
      "cell_type": "code",
      "source": [
        "# Using Discard method\n",
        "set1 = {1,2,3,4,5}\n",
        "print('Actual Set :', set1)\n",
        "set1.discard(4)\n",
        "print('Updated Set :', set1)"
      ],
      "metadata": {
        "colab": {
          "base_uri": "https://localhost:8080/"
        },
        "id": "ICVlMZZk_lpp",
        "outputId": "a8b0fb54-54da-49ca-cd25-3de6ad447c3e"
      },
      "execution_count": 84,
      "outputs": [
        {
          "output_type": "stream",
          "name": "stdout",
          "text": [
            "Actual Set : {1, 2, 3, 4, 5}\n",
            "Updated Set : {1, 2, 3, 5}\n"
          ]
        }
      ]
    },
    {
      "cell_type": "code",
      "source": [
        "# Using Discard method\n",
        "set1 = {1,2,3,4,5}\n",
        "print('Actual Set :', set1)\n",
        "set1.discard(7)\n",
        "print('Updated Set :', set1)"
      ],
      "metadata": {
        "colab": {
          "base_uri": "https://localhost:8080/"
        },
        "id": "gMirIWvDAEx7",
        "outputId": "9e0cc9c6-b118-41ef-cf0c-c1fce2f0442e"
      },
      "execution_count": 85,
      "outputs": [
        {
          "output_type": "stream",
          "name": "stdout",
          "text": [
            "Actual Set : {1, 2, 3, 4, 5}\n",
            "Updated Set : {1, 2, 3, 4, 5}\n"
          ]
        }
      ]
    },
    {
      "cell_type": "code",
      "source": [
        "# pop() method\n",
        "set1 = {1,2,3,4,5}\n",
        "val = set1.pop()\n",
        "print('Pop element :', val)\n",
        "print('Set :', set1)"
      ],
      "metadata": {
        "colab": {
          "base_uri": "https://localhost:8080/"
        },
        "id": "apxtNY61AEuw",
        "outputId": "172f6030-2f9b-4983-8d9c-0381ec4dbd68"
      },
      "execution_count": 86,
      "outputs": [
        {
          "output_type": "stream",
          "name": "stdout",
          "text": [
            "Pop element : 1\n",
            "Set : {2, 3, 4, 5}\n"
          ]
        }
      ]
    },
    {
      "cell_type": "code",
      "source": [
        "# Clear() method\n",
        "set1 = {1,2,3,4,5}\n",
        "print('Actual Set :', set1)\n",
        "set1.clear()\n",
        "print('Updated Set :', set1)"
      ],
      "metadata": {
        "colab": {
          "base_uri": "https://localhost:8080/"
        },
        "id": "WW8opU3bA54Y",
        "outputId": "6cccec32-8a3e-4c20-8700-f04145731f2f"
      },
      "execution_count": 87,
      "outputs": [
        {
          "output_type": "stream",
          "name": "stdout",
          "text": [
            "Actual Set : {1, 2, 3, 4, 5}\n",
            "Updated Set : set()\n"
          ]
        }
      ]
    },
    {
      "cell_type": "code",
      "source": [
        "# Operations  on Set ->"
      ],
      "metadata": {
        "id": "u4iUnqOmA51M"
      },
      "execution_count": null,
      "outputs": []
    },
    {
      "cell_type": "code",
      "source": [
        "# Union() Operation\n",
        "a = {'Adarsh', 'Divyanshu', 'Abhishek'}\n",
        "b = {'Sateesh','Mrunay', 'Kedar'}\n",
        "print('Actual Set 1 :', a)\n",
        "print('Actual Set 2 :', b)\n",
        "print('Union:\\n', a.union(b))\n"
      ],
      "metadata": {
        "colab": {
          "base_uri": "https://localhost:8080/"
        },
        "id": "zfYlFP_dA5yJ",
        "outputId": "e640a98b-d773-4aa6-ffad-c26ace11f5d0"
      },
      "execution_count": 88,
      "outputs": [
        {
          "output_type": "stream",
          "name": "stdout",
          "text": [
            "Actual Set 1 : {'Abhishek', 'Divyanshu', 'Adarsh'}\n",
            "Actual Set 2 : {'Sateesh', 'Mrunay', 'Kedar'}\n",
            "Union:\n",
            " {'Sateesh', 'Kedar', 'Abhishek', 'Mrunay', 'Divyanshu', 'Adarsh'}\n"
          ]
        }
      ]
    },
    {
      "cell_type": "code",
      "source": [
        "# Intersect()"
      ],
      "metadata": {
        "id": "p3uzdlw1CNUX"
      },
      "execution_count": null,
      "outputs": []
    },
    {
      "cell_type": "code",
      "source": [
        "a = {'Adarsh', 'Divyanshu', 'Abhishek'}\n",
        "b = {'Sateesh','Mrunay', 'Kedar', 'Abhishek'}\n",
        "print('Actual Set 1 :', a)\n",
        "print('Actual Set 2 :', b)\n",
        "print('Union:\\n', a.intersection(b))"
      ],
      "metadata": {
        "colab": {
          "base_uri": "https://localhost:8080/"
        },
        "id": "bEyCB5HWCNRL",
        "outputId": "f8978980-4c5f-40e4-fe99-d162f004f43f"
      },
      "execution_count": 90,
      "outputs": [
        {
          "output_type": "stream",
          "name": "stdout",
          "text": [
            "Actual Set 1 : {'Abhishek', 'Divyanshu', 'Adarsh'}\n",
            "Actual Set 2 : {'Sateesh', 'Abhishek', 'Mrunay', 'Kedar'}\n",
            "Union:\n",
            " {'Abhishek'}\n"
          ]
        }
      ]
    },
    {
      "cell_type": "code",
      "source": [
        "# difference()"
      ],
      "metadata": {
        "id": "8GvAl_p7CNLR"
      },
      "execution_count": null,
      "outputs": []
    },
    {
      "cell_type": "code",
      "source": [
        "a = {'Adarsh', 'Divyanshu', 'Abhishek'}\n",
        "b = {'Sateesh','Mrunay', 'Kedar', 'Abhishek'}\n",
        "print('Actual Set 1 :', a)\n",
        "print('Actual Set 2 :', b)\n",
        "print('Union:\\n', a.difference(b))"
      ],
      "metadata": {
        "colab": {
          "base_uri": "https://localhost:8080/"
        },
        "id": "cFvzAWp4CNIm",
        "outputId": "2c227f4a-7364-4580-e5b2-27d49da633fe"
      },
      "execution_count": 91,
      "outputs": [
        {
          "output_type": "stream",
          "name": "stdout",
          "text": [
            "Actual Set 1 : {'Abhishek', 'Divyanshu', 'Adarsh'}\n",
            "Actual Set 2 : {'Sateesh', 'Abhishek', 'Mrunay', 'Kedar'}\n",
            "Union:\n",
            " {'Divyanshu', 'Adarsh'}\n"
          ]
        }
      ]
    },
    {
      "cell_type": "code",
      "source": [
        "# frozenset() -> Immutable"
      ],
      "metadata": {
        "id": "SnCsS0EpC0yr"
      },
      "execution_count": null,
      "outputs": []
    },
    {
      "cell_type": "code",
      "source": [
        "# Creating of frozenset\n",
        "fset = frozenset([1,2,3,4,5])\n",
        "print('Frozen Set :', fset)\n",
        "print('Type :', type(fset))"
      ],
      "metadata": {
        "colab": {
          "base_uri": "https://localhost:8080/"
        },
        "id": "DGysPU-zC0vx",
        "outputId": "009b1677-aaf0-43dd-b0da-2bfb52f7c954"
      },
      "execution_count": 92,
      "outputs": [
        {
          "output_type": "stream",
          "name": "stdout",
          "text": [
            "Frozen Set : frozenset({1, 2, 3, 4, 5})\n",
            "Type : <class 'frozenset'>\n"
          ]
        }
      ]
    },
    {
      "cell_type": "code",
      "source": [
        "# Dictionary in Python->"
      ],
      "metadata": {
        "id": "uzhvB2PkC0sz"
      },
      "execution_count": null,
      "outputs": []
    },
    {
      "cell_type": "code",
      "source": [
        "# Creating of Dictionary\n",
        "d1 = {\n",
        "    1: 'List',\n",
        "    2: 'Tuple',\n",
        "    3: 'Set',\n",
        "    4: 'Dictionary'\n",
        "}\n",
        "print('Dictionary:\\n', d1)\n",
        "print('Type:', type(d1))\n",
        "print('Keys:', d1.keys())\n",
        "print('Values:', d1.values())\n"
      ],
      "metadata": {
        "colab": {
          "base_uri": "https://localhost:8080/"
        },
        "id": "ED6YAHyIDIKs",
        "outputId": "be448eae-01f2-45be-9961-58ba7ceab766"
      },
      "execution_count": 94,
      "outputs": [
        {
          "output_type": "stream",
          "name": "stdout",
          "text": [
            "Dictionary:\n",
            " {1: 'List', 2: 'Tuple', 3: 'Set', 4: 'Dictionary'}\n",
            "Type: <class 'dict'>\n",
            "Keys: dict_keys([1, 2, 3, 4])\n",
            "Values: dict_values(['List', 'Tuple', 'Set', 'Dictionary'])\n"
          ]
        }
      ]
    },
    {
      "cell_type": "code",
      "source": [
        "# Extracting the value associated w.r.t a key\n",
        "print('Value associated with key 1:', d1[1])"
      ],
      "metadata": {
        "colab": {
          "base_uri": "https://localhost:8080/"
        },
        "id": "hQvPKGLVDIGS",
        "outputId": "bda0e932-b9c9-4474-c808-1a06f40a99aa"
      },
      "execution_count": 95,
      "outputs": [
        {
          "output_type": "stream",
          "name": "stdout",
          "text": [
            "Value associated with key 1: List\n"
          ]
        }
      ]
    },
    {
      "cell_type": "code",
      "source": [
        "# Dictionary is mutable\n",
        "d1[3] = 'Frozen set'\n",
        "print('Dictionary:\\n', d1)\n",
        "print('Type :', type(d1))\n"
      ],
      "metadata": {
        "colab": {
          "base_uri": "https://localhost:8080/"
        },
        "id": "0cVgHND3D57o",
        "outputId": "aa32eaa7-369f-4fed-9086-fbd31cc028b2"
      },
      "execution_count": 96,
      "outputs": [
        {
          "output_type": "stream",
          "name": "stdout",
          "text": [
            "Dictionary:\n",
            " {1: 'List', 2: 'Tuple', 3: 'Frozen set', 4: 'Dictionary'}\n",
            "Type : <class 'dict'>\n"
          ]
        }
      ]
    },
    {
      "cell_type": "code",
      "source": [
        "# Removing elements  from a list\n",
        "print('Actual Dictionary :', d1)\n",
        "del d1[4]\n",
        "print('Updated Dictionary :', d1)"
      ],
      "metadata": {
        "colab": {
          "base_uri": "https://localhost:8080/"
        },
        "id": "dKqOInnMD5wa",
        "outputId": "ca4670ee-842b-40e7-ea4c-5134dfe7a2f3"
      },
      "execution_count": 97,
      "outputs": [
        {
          "output_type": "stream",
          "name": "stdout",
          "text": [
            "Actual Dictionary : {1: 'List', 2: 'Tuple', 3: 'Frozen set', 4: 'Dictionary'}\n",
            "Updated Dictionary : {1: 'List', 2: 'Tuple', 3: 'Frozen set'}\n"
          ]
        }
      ]
    },
    {
      "cell_type": "code",
      "source": [
        "# pop() method\n",
        "val = d1.pop(2)\n",
        "print('Pop Element :', val)\n",
        "print('Dictionary :', d1)"
      ],
      "metadata": {
        "colab": {
          "base_uri": "https://localhost:8080/"
        },
        "id": "ZbBQgNa0EUlw",
        "outputId": "f59f4c91-281c-45f8-b1b4-ea5ae4addfe7"
      },
      "execution_count": 100,
      "outputs": [
        {
          "output_type": "stream",
          "name": "stdout",
          "text": [
            "Pop Element : Tuple\n",
            "Dictionary : {3: 'Frozen set'}\n"
          ]
        }
      ]
    },
    {
      "cell_type": "code",
      "source": [
        "# popitem()\n",
        "key, val = d1.popitem()\n",
        "print ('key :', key)\n",
        "print ('Value :', val)\n",
        "print ('Dictionary :', d1)"
      ],
      "metadata": {
        "colab": {
          "base_uri": "https://localhost:8080/"
        },
        "id": "kbrIRtmlEUaC",
        "outputId": "c2d55d56-c75d-4f64-b68f-a1e85c87386f"
      },
      "execution_count": 101,
      "outputs": [
        {
          "output_type": "stream",
          "name": "stdout",
          "text": [
            "key : 3\n",
            "Value : Frozen set\n",
            "Dictionary : {}\n"
          ]
        }
      ]
    },
    {
      "cell_type": "code",
      "source": [
        "# Adding a key value pair\n",
        "d1[5] = 'Frozenset'\n",
        "print('Dictionary :', d1)"
      ],
      "metadata": {
        "colab": {
          "base_uri": "https://localhost:8080/"
        },
        "id": "4OJkA7W0GGnB",
        "outputId": "9f36d620-8170-4d66-d82b-c530a7267a87"
      },
      "execution_count": 103,
      "outputs": [
        {
          "output_type": "stream",
          "name": "stdout",
          "text": [
            "Dictionary : {1: 'List', 2: 'Tuple', 3: 'Set', 4: 'Dictionary', 5: 'Frozenset'}\n"
          ]
        }
      ]
    },
    {
      "cell_type": "code",
      "source": [
        "# Extracting the pair of elements\n",
        "d1 = {\n",
        "    1: 'List',\n",
        "    2: 'Tuple',\n",
        "    3: 'Set',\n",
        "    4: 'Dictionary'\n",
        "}\n",
        "for key, val in d1.items():\n",
        "  print(f\"{key}: {val}\")"
      ],
      "metadata": {
        "colab": {
          "base_uri": "https://localhost:8080/"
        },
        "id": "hvD8RXxnFYIq",
        "outputId": "375b5d70-42ea-4a69-906a-3147eb97fd60"
      },
      "execution_count": 102,
      "outputs": [
        {
          "output_type": "stream",
          "name": "stdout",
          "text": [
            "1,: List\n",
            "2,: Tuple\n",
            "3,: Set\n",
            "4,: Dictionary\n"
          ]
        }
      ]
    }
  ]
}