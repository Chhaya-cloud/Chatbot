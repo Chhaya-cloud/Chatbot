{
  "nbformat": 4,
  "nbformat_minor": 0,
  "metadata": {
    "colab": {
      "provenance": [],
      "authorship_tag": "ABX9TyM614si6zUffM57vJew1CsF",
      "include_colab_link": true
    },
    "kernelspec": {
      "name": "python3",
      "display_name": "Python 3"
    },
    "language_info": {
      "name": "python"
    }
  },
  "cells": [
    {
      "cell_type": "markdown",
      "metadata": {
        "id": "view-in-github",
        "colab_type": "text"
      },
      "source": [
        "<a href=\"https://colab.research.google.com/github/Chhaya-cloud/Chatbot/blob/main/Numpy.ipynb\" target=\"_parent\"><img src=\"https://colab.research.google.com/assets/colab-badge.svg\" alt=\"Open In Colab\"/></a>"
      ]
    },
    {
      "cell_type": "markdown",
      "source": [
        "Numpy means numerical python......\n",
        "ndarray -> n dimensional array"
      ],
      "metadata": {
        "id": "i-wb9xdRxbAa"
      }
    },
    {
      "cell_type": "code",
      "execution_count": null,
      "metadata": {
        "colab": {
          "base_uri": "https://localhost:8080/"
        },
        "id": "w6R6rrRWwLKR",
        "outputId": "7fa02c8f-ad53-4717-9b05-abac8fdcf938"
      },
      "outputs": [
        {
          "output_type": "stream",
          "name": "stdout",
          "text": [
            "Requirement already satisfied: numpy in /usr/local/lib/python3.11/dist-packages (1.26.4)\n"
          ]
        }
      ],
      "source": [
        "# Installing  numpy\n",
        "!pip install numpy"
      ]
    },
    {
      "cell_type": "code",
      "source": [
        "# Creating a numpy array\n",
        "import numpy as np\n",
        "arr = np.array([1, 2, 3, 4, 5])\n",
        "print('Array :\\n', arr)\n",
        "print ('Shape :', arr.shape)\n",
        "print ('Type :', type(arr))\n",
        "print ('Data Type :', arr.dtype)\n",
        "print ('Number of dimensions:', arr.ndim)"
      ],
      "metadata": {
        "colab": {
          "base_uri": "https://localhost:8080/"
        },
        "id": "kZTCgYMNwVxo",
        "outputId": "c6e6d456-68f5-41ff-95e5-80af89950ea1"
      },
      "execution_count": null,
      "outputs": [
        {
          "output_type": "stream",
          "name": "stdout",
          "text": [
            "Array :\n",
            " [1 2 3 4 5]\n",
            "Shape : (5,)\n",
            "Type : <class 'numpy.ndarray'>\n",
            "Data Type : int64\n",
            "Number of dimensions: 1\n"
          ]
        }
      ]
    },
    {
      "cell_type": "code",
      "source": [],
      "metadata": {
        "id": "nIEh8ydLxAkZ"
      },
      "execution_count": null,
      "outputs": []
    },
    {
      "cell_type": "code",
      "source": [
        "# Numpy arrays are compared with  python lists on two points\n",
        "1) Size ->Numpy data structures take up less space\n",
        "2) Performance ->They are inherently faster than lists\n"
      ],
      "metadata": {
        "id": "RQMWoZfVxu_Q"
      },
      "execution_count": null,
      "outputs": []
    },
    {
      "cell_type": "code",
      "source": [
        "# Size comparison\n",
        "import numpy as np\n",
        "import sys"
      ],
      "metadata": {
        "id": "w0FzQ8Ptx-p4"
      },
      "execution_count": null,
      "outputs": []
    },
    {
      "cell_type": "code",
      "source": [
        "# Declaring a list of 1000 elements\n",
        "S = range(1000)\n"
      ],
      "metadata": {
        "id": "ciiQA9mNyDsf"
      },
      "execution_count": null,
      "outputs": []
    },
    {
      "cell_type": "code",
      "source": [
        "# Output\n",
        "print('Size of each element of list in bytes: ', sys.getsizeof(S))\n",
        "print('Size of the whole list in bytes: ', sys.getsizeof(S) * len(S))"
      ],
      "metadata": {
        "colab": {
          "base_uri": "https://localhost:8080/"
        },
        "id": "LkE9Cud0yKPX",
        "outputId": "a8fcc1c8-a08a-43c3-b529-2e3451a21fb5"
      },
      "execution_count": null,
      "outputs": [
        {
          "output_type": "stream",
          "name": "stdout",
          "text": [
            "Size of each element of list in bytes:  48\n",
            "Size of the whole list in bytes:  48000\n"
          ]
        }
      ]
    },
    {
      "cell_type": "code",
      "source": [
        "# Declaring numpy array of 1000 elements\n",
        "D = np.arange(1000)"
      ],
      "metadata": {
        "id": "1z29gMnIyx3e"
      },
      "execution_count": null,
      "outputs": []
    },
    {
      "cell_type": "code",
      "source": [
        "# Output\n",
        "print('Size of each element of the Numpy array in bytes: ', D.itemsize)\n",
        "print('Size of the whole Numpy array in bytes: ', D.size * D.itemsize)"
      ],
      "metadata": {
        "colab": {
          "base_uri": "https://localhost:8080/"
        },
        "id": "75jR6-1fy8JO",
        "outputId": "fbb5fb8e-f4ef-47b2-822a-5dd2a11a5122"
      },
      "execution_count": null,
      "outputs": [
        {
          "output_type": "stream",
          "name": "stdout",
          "text": [
            "Size of each element of the Numpy array in bytes:  8\n",
            "Size of the whole Numpy array in bytes:  8000\n"
          ]
        }
      ]
    },
    {
      "cell_type": "code",
      "source": [
        "# Numpy arrays consumes 6 times less memory than python lists."
      ],
      "metadata": {
        "id": "HQcz2lwhzp9_"
      },
      "execution_count": null,
      "outputs": []
    },
    {
      "cell_type": "code",
      "source": [
        "# np.arrange(start, end, step)\n",
        "np.arange(1, 10, 1)"
      ],
      "metadata": {
        "colab": {
          "base_uri": "https://localhost:8080/"
        },
        "id": "LAmvUDlfzzbf",
        "outputId": "9602fd47-bcdd-490e-c4a5-e91339e77f02"
      },
      "execution_count": null,
      "outputs": [
        {
          "output_type": "execute_result",
          "data": {
            "text/plain": [
              "array([1, 2, 3, 4, 5, 6, 7, 8, 9])"
            ]
          },
          "metadata": {},
          "execution_count": 22
        }
      ]
    },
    {
      "cell_type": "code",
      "source": [
        "# Default starting value is 0\n",
        "# Default step is 1"
      ],
      "metadata": {
        "id": "RcSqz1OX0nIG"
      },
      "execution_count": null,
      "outputs": []
    },
    {
      "cell_type": "code",
      "source": [
        "#[] Ending value is not included"
      ],
      "metadata": {
        "id": "7N4VNFce0ZQ-"
      },
      "execution_count": null,
      "outputs": []
    },
    {
      "cell_type": "code",
      "source": [
        "# np.arrange(start, end, step)\n",
        "np.arange(1, 10)"
      ],
      "metadata": {
        "colab": {
          "base_uri": "https://localhost:8080/"
        },
        "id": "DLzX2bNT01We",
        "outputId": "b2e7294d-6551-4150-8241-d62688c08a3a"
      },
      "execution_count": null,
      "outputs": [
        {
          "output_type": "execute_result",
          "data": {
            "text/plain": [
              "array([1, 2, 3, 4, 5, 6, 7, 8, 9])"
            ]
          },
          "metadata": {},
          "execution_count": 23
        }
      ]
    },
    {
      "cell_type": "code",
      "source": [
        "#[] Default step is 1"
      ],
      "metadata": {
        "id": "3A1_-Q8P1T12"
      },
      "execution_count": null,
      "outputs": []
    },
    {
      "cell_type": "code",
      "source": [
        "# np.arrange(start, end, step)\n",
        "np.arange(1, 10, 2)"
      ],
      "metadata": {
        "colab": {
          "base_uri": "https://localhost:8080/"
        },
        "id": "qrxkkkg607eP",
        "outputId": "427df92a-d5cb-439d-c774-ca93823bcaf7"
      },
      "execution_count": null,
      "outputs": [
        {
          "output_type": "execute_result",
          "data": {
            "text/plain": [
              "array([1, 3, 5, 7, 9])"
            ]
          },
          "metadata": {},
          "execution_count": 24
        }
      ]
    },
    {
      "cell_type": "code",
      "source": [
        "# np.arrange(start, end, step)\n",
        "np.arange(stop=  10, step= 2)"
      ],
      "metadata": {
        "colab": {
          "base_uri": "https://localhost:8080/"
        },
        "id": "gzIlppIZ0_iH",
        "outputId": "a380ec8b-0bfe-4f41-fb6c-92e2446a1779"
      },
      "execution_count": null,
      "outputs": [
        {
          "output_type": "execute_result",
          "data": {
            "text/plain": [
              "array([0, 2, 4, 6, 8])"
            ]
          },
          "metadata": {},
          "execution_count": 25
        }
      ]
    },
    {
      "cell_type": "code",
      "source": [
        "# Performance Comparison\n",
        "# Importing time\n",
        "import time"
      ],
      "metadata": {
        "id": "Ob6EWPjy1vK-"
      },
      "execution_count": null,
      "outputs": []
    },
    {
      "cell_type": "code",
      "source": [
        "# Size of ARRAYS AND LISTS\n",
        "size = 1000000\n"
      ],
      "metadata": {
        "id": "21cvdJpB15pX"
      },
      "execution_count": null,
      "outputs": []
    },
    {
      "cell_type": "code",
      "source": [
        "# Declaring lists\n",
        "list1 = range(size)\n",
        "list2 = range(size)"
      ],
      "metadata": {
        "id": "UnYXAXZL2DRO"
      },
      "execution_count": null,
      "outputs": []
    },
    {
      "cell_type": "code",
      "source": [
        "# Declaring arrays\n",
        "array1 = np.arange(size)\n",
        "array2 = np.arange(size)"
      ],
      "metadata": {
        "id": "FqdrLpJ_2HW2"
      },
      "execution_count": null,
      "outputs": []
    },
    {
      "cell_type": "code",
      "source": [
        "# Capturing the time before the operation\n",
        "initialTime = time.time()"
      ],
      "metadata": {
        "id": "YzL7F-yJ2Ltm"
      },
      "execution_count": null,
      "outputs": []
    },
    {
      "cell_type": "code",
      "source": [
        "# multiplying the elements\n",
        "res = [(a * b) for a, b in zip(list1, list2)]"
      ],
      "metadata": {
        "id": "DtpIwRjk2Qs-"
      },
      "execution_count": null,
      "outputs": []
    },
    {
      "cell_type": "code",
      "source": [
        "# Capturing time after the operation\n",
        "print('Time taken by list to perform multiplication: ', (time.time() * initialTime)*1000, 'ms')"
      ],
      "metadata": {
        "colab": {
          "base_uri": "https://localhost:8080/"
        },
        "id": "QztmjDj14_6X",
        "outputId": "ec5ce7fa-9fa6-41ae-bade-bc3cf9f3dc63"
      },
      "execution_count": null,
      "outputs": [
        {
          "output_type": "stream",
          "name": "stdout",
          "text": [
            "Time taken by list to perform multiplication:  3.0283490351320704e+21 ms\n"
          ]
        }
      ]
    },
    {
      "cell_type": "code",
      "source": [
        "# Capturing the time before operation\n",
        "initialTime = time.time()"
      ],
      "metadata": {
        "id": "T2GecBAB5NS-"
      },
      "execution_count": null,
      "outputs": []
    },
    {
      "cell_type": "code",
      "source": [
        "# multipying the arrays\n",
        "result = array1 * array2"
      ],
      "metadata": {
        "id": "mdKm-NWb3KPW"
      },
      "execution_count": null,
      "outputs": []
    },
    {
      "cell_type": "code",
      "source": [
        "# Capturing time after the operation\n",
        "print('Time taken by Numpy arrays to perform multiplication: ', (time.time() - initialTime), 'seconds')"
      ],
      "metadata": {
        "colab": {
          "base_uri": "https://localhost:8080/"
        },
        "id": "64h53ivt5tuH",
        "outputId": "d08f8048-3d3d-496a-e9b7-eabc611ca223"
      },
      "execution_count": null,
      "outputs": [
        {
          "output_type": "stream",
          "name": "stdout",
          "text": [
            "Time taken by Numpy arrays to perform multiplication:  552.4585008621216 seconds\n"
          ]
        }
      ]
    },
    {
      "cell_type": "code",
      "source": [
        "[] We can see Numpy arrays are faster than pyhtion lists."
      ],
      "metadata": {
        "id": "bGHcQl2i7kK2"
      },
      "execution_count": null,
      "outputs": []
    },
    {
      "cell_type": "code",
      "source": [
        "# Numpy arrays are homogenous\n",
        "arr = np.array([1, 2.0, 'Numpy'])\n",
        "print('Array :', arr)\n",
        "print ('Data type :', arr.dtype)"
      ],
      "metadata": {
        "colab": {
          "base_uri": "https://localhost:8080/"
        },
        "id": "iPY04G1N6bH-",
        "outputId": "b96d7ff7-7782-4754-aa05-73f20ae8ffcb"
      },
      "execution_count": null,
      "outputs": [
        {
          "output_type": "stream",
          "name": "stdout",
          "text": [
            "Array : ['1' '2.0' 'Numpy']\n",
            "Data type : <U32\n"
          ]
        }
      ]
    },
    {
      "cell_type": "code",
      "source": [
        "# Numpy arrays are homogenous\n",
        "arr = np.array([1, 2.0, 5.7])\n",
        "print('Array :', arr)\n",
        "print ('Data type :', arr.dtype)\n"
      ],
      "metadata": {
        "colab": {
          "base_uri": "https://localhost:8080/"
        },
        "id": "zp3-xK9G22Z3",
        "outputId": "4d7a8123-9f4d-4cfc-d9fa-678a0bce0968"
      },
      "execution_count": null,
      "outputs": [
        {
          "output_type": "stream",
          "name": "stdout",
          "text": [
            "Array : [1.  2.  5.7]\n",
            "Data type : float64\n"
          ]
        }
      ]
    },
    {
      "cell_type": "code",
      "source": [
        "# Numpy arrays are homogenous\n",
        "arr = np.array([1, 2, 3])\n",
        "print('Array :', arr)\n",
        "print ('Data type :', arr.dtype)"
      ],
      "metadata": {
        "colab": {
          "base_uri": "https://localhost:8080/"
        },
        "id": "jKIh7i6P8CEW",
        "outputId": "9904401e-265a-4949-a4f4-469b2447791d"
      },
      "execution_count": null,
      "outputs": [
        {
          "output_type": "stream",
          "name": "stdout",
          "text": [
            "Array : [1 2 3]\n",
            "Data type : int64\n"
          ]
        }
      ]
    },
    {
      "cell_type": "code",
      "source": [
        "# random module in numpy\n",
        "# np.random.rand()-> used to create array of an random values in the range (0,1)\n",
        "np.random.rand(3,4)"
      ],
      "metadata": {
        "colab": {
          "base_uri": "https://localhost:8080/"
        },
        "id": "2FskyiRR8RxH",
        "outputId": "0e6271a5-a9f8-4c8e-a34e-1155cfd9628f"
      },
      "execution_count": null,
      "outputs": [
        {
          "output_type": "execute_result",
          "data": {
            "text/plain": [
              "array([[0.69857798, 0.62078759, 0.93550945, 0.69327065],\n",
              "       [0.84409042, 0.26886441, 0.97081955, 0.82355759],\n",
              "       [0.05935467, 0.5193247 , 0.57456093, 0.58147536]])"
            ]
          },
          "metadata": {},
          "execution_count": 53
        }
      ]
    },
    {
      "cell_type": "code",
      "source": [
        "# np.random.randn()-> used to create array of an random normal values\n",
        "# with mean = 0 and standard deviation = 1\n",
        "np.random.rand(2,5)"
      ],
      "metadata": {
        "colab": {
          "base_uri": "https://localhost:8080/"
        },
        "id": "1BMgXwxA8qbH",
        "outputId": "7b4b7770-b944-4560-b206-024395c618c9"
      },
      "execution_count": null,
      "outputs": [
        {
          "output_type": "execute_result",
          "data": {
            "text/plain": [
              "array([[0.14624377, 0.30040313, 0.39675133, 0.69802501, 0.82078109],\n",
              "       [0.7721904 , 0.32868385, 0.66503066, 0.74883103, 0.24431149]])"
            ]
          },
          "metadata": {},
          "execution_count": 54
        }
      ]
    },
    {
      "cell_type": "code",
      "source": [
        "# np.random.randint(low, high, size)\n",
        "np.random.randint(low = 1, high = 100, size = (3,5))"
      ],
      "metadata": {
        "colab": {
          "base_uri": "https://localhost:8080/"
        },
        "id": "ujZDxeIA853_",
        "outputId": "b923754b-51fd-4793-ef04-1353e9625a60"
      },
      "execution_count": null,
      "outputs": [
        {
          "output_type": "execute_result",
          "data": {
            "text/plain": [
              "array([[76, 95, 71, 54, 93],\n",
              "       [45, 27,  1, 73, 12],\n",
              "       [89, 54, 43, 19, 98]])"
            ]
          },
          "metadata": {},
          "execution_count": 61
        }
      ]
    },
    {
      "cell_type": "code",
      "source": [
        "# high value is not included"
      ],
      "metadata": {
        "id": "pTxRPRFx9PlQ"
      },
      "execution_count": null,
      "outputs": []
    }
  ]
}