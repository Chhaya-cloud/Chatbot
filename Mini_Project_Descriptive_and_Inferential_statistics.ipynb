{
  "nbformat": 4,
  "nbformat_minor": 0,
  "metadata": {
    "colab": {
      "provenance": [],
      "authorship_tag": "ABX9TyMPHQovHxBCp8Sbm+345RO5",
      "include_colab_link": true
    },
    "kernelspec": {
      "name": "python3",
      "display_name": "Python 3"
    },
    "language_info": {
      "name": "python"
    }
  },
  "cells": [
    {
      "cell_type": "markdown",
      "metadata": {
        "id": "view-in-github",
        "colab_type": "text"
      },
      "source": [
        "<a href=\"https://colab.research.google.com/github/Chhaya-cloud/Chatbot/blob/main/Mini_Project_Descriptive_and_Inferential_statistics.ipynb\" target=\"_parent\"><img src=\"https://colab.research.google.com/assets/colab-badge.svg\" alt=\"Open In Colab\"/></a>"
      ]
    },
    {
      "cell_type": "markdown",
      "source": [
        "**Q1. Key Statistical definitions\n",
        "Problem:\n",
        " Write short definitions (2-3 lines each) for the following:\n",
        "a) Population and Sample\n",
        "b) Descriptive Statistics and Inferential Statistics\n",
        "c) Parameter and Statistic\n",
        "d) Qualitative and Quantitative Data**"
      ],
      "metadata": {
        "id": "YjIu-jtLPmv2"
      }
    },
    {
      "cell_type": "markdown",
      "source": [
        "a)**Population and Sample **\n",
        "\n",
        "Population: The complete set of all individuals or items that you're studying.\n",
        "\n",
        "Sample: A subset of the population selected for analysis to make inferences about the whole.\n",
        "\n",
        "b) **Descriptive Statistics and Inferential Statistics**\n",
        "\n",
        "Descriptive Statistics: Methods for summarizing and organizing data using measures such as mean, median, and standard deviation.\n",
        "\n",
        "Inferential Statistics: Techniques for drawing conclusions or making predictions about a population based on sample data.\n",
        "\n",
        "c) **Parameter and Statistic**\n",
        "\n",
        "Parameter: A numerical value that describes a characteristic of a population (e.g., population mean). parameter means features, a name of a column which describes about the population.\n",
        "\n",
        "Statistic: A numerical value that describes a characteristic of a sample (e.g., sample mean).\n",
        "\n",
        "d) **Qualitative and Quantitative Data**\n",
        "\n",
        "Qualitative Data: Non-numeric information that describes categories or labels (e.g., colors, names).\n",
        "\n",
        "Quantitative Data: Numeric data that represents measurable quantities (e.g., height, weight)."
      ],
      "metadata": {
        "id": "cGqKj6cTQlKf"
      }
    },
    {
      "cell_type": "markdown",
      "source": [
        "**Q2. Measures of Central Tendency - Definitions\n",
        "Objective: Learn basic concepts of data centering.\n",
        "Problem:\n",
        " Define the following terms with one example each:\n",
        "a) Mean\n",
        "b) Median\n",
        "c) Mode**"
      ],
      "metadata": {
        "id": "h51ZLrTaTM0g"
      }
    },
    {
      "cell_type": "markdown",
      "source": [
        "a) Mean\n",
        "\n",
        "Definition: The mean is the average of a set of numbers, calculated by summing all values and dividing by the number of values.\n",
        "\n",
        "Example: For the numbers 4, 6, and 8:\n",
        "Mean = (4 + 6 + 8) / 3 = 18 / 3 = 6\n",
        "\n",
        "b) Median\n",
        "\n",
        "Definition: The median is the middle value in an ordered dataset. If there is an even number of values, it's the average of the two middle numbers.\n",
        "\n",
        "Example: For the numbers 3, 7, 9:\n",
        "Median = 7 (the middle value)\n",
        "\n",
        "c) Mode\n",
        "\n",
        "Definition: The mode is the value that appears most frequently in a dataset.\n",
        "\n",
        "Example: For the numbers 2, 4, 4, 6, 8:\n",
        "Mode = 4 (it appears twice)"
      ],
      "metadata": {
        "id": "hB4S1JplTQ4G"
      }
    },
    {
      "cell_type": "markdown",
      "source": [
        "**Q3. Manual Calculation of Mean, Median, and Mode\n",
        "Objective: Apply manual formulas to real data.\n",
        "Problem:\n",
        " Given the dataset:\n",
        " 12, 18, 14, 16, 18, 20, 18, 15, 12, 18, 14, 16, 18, 20, 18, 15\n",
        "Calculate:\n",
        "a) Mean\n",
        "b) Median\n",
        "c) Mode**\n"
      ],
      "metadata": {
        "id": "fqiHzmPMWRqW"
      }
    },
    {
      "cell_type": "markdown",
      "source": [
        "Dataset:\n",
        "12, 18, 14, 16, 18, 20, 18, 15, 12, 18, 14, 16, 18, 20, 18, 15\n",
        "\n",
        "a) Mean\n",
        "Formula:\n",
        "\n",
        "Mean\n",
        "=\n",
        "Sum of all values\n",
        "Total number of values\n",
        "Mean=\n",
        "Total number of values\n",
        "Sum of all values\n",
        "\n",
        "Step 1: Add all the numbers\n",
        "12 + 18 + 14 + 16 + 18 + 20 + 18 + 15 + 12 + 18 + 14 + 16 + 18 + 20 + 18 + 15 = 260\n",
        "\n",
        "Step 2: Count the total numbers\n",
        "There are 16 values.\n",
        "\n",
        "Mean =\n",
        "\n",
        "260\n",
        "16\n",
        "=\n",
        "16.25\n",
        "16\n",
        "260\n",
        "\n",
        " =16.25\n",
        "**Mean** = 16.25\n",
        "\n",
        "b) Median\n",
        "Step 1: Sort the data in ascending order\n",
        "12, 12, 14, 14, 15, 15, 16, 16, 18, 18, 18, 18, 18, 18, 20, 20\n",
        "\n",
        "Step 2: Find the middle two values (Even number of values = 16)\n",
        "Middle values are the 8th and 9th numbers: 16 and 18\n",
        "\n",
        "Median = 16+18/2 = 34/2 = 17\n",
        "**Median** = 17\n",
        "\n",
        "c) Mode\n",
        "Step 1: Identify the number that appears most frequently\n",
        "\n",
        "12 → 2 times\n",
        "\n",
        "14 → 2 times\n",
        "\n",
        "15 → 2 times\n",
        "\n",
        "16 → 2 times\n",
        "\n",
        "18 → 6 times\n",
        "\n",
        "20 → 2 times\n",
        "** Mode = 18 (occurs most frequently)**"
      ],
      "metadata": {
        "id": "km3VG6nYXN9n"
      }
    },
    {
      "cell_type": "code",
      "source": [
        "data = [12, 18, 14, 16, 18, 20, 18, 15, 12, 18, 14, 16, 18, 20, 18, 15]\n",
        "\n",
        "# Calculate mean\n",
        "mean_value = sum(data) / len(data)\n",
        "print(\"Mean:\", mean_value)\n"
      ],
      "metadata": {
        "colab": {
          "base_uri": "https://localhost:8080/"
        },
        "id": "qw3noWMEaE3g",
        "outputId": "b9293a86-24ae-4040-8434-76856b650cb8"
      },
      "execution_count": 1,
      "outputs": [
        {
          "output_type": "stream",
          "name": "stdout",
          "text": [
            "Mean: 16.375\n"
          ]
        }
      ]
    },
    {
      "cell_type": "code",
      "source": [
        "import statistics\n",
        "\n",
        "data = [12, 18, 14, 16, 18, 20, 18, 15, 12, 18, 14, 16, 18, 20, 18, 15]\n",
        "\n",
        "# Calculate median\n",
        "median_value = statistics.median(data)\n",
        "print(\"Median:\", median_value)\n"
      ],
      "metadata": {
        "colab": {
          "base_uri": "https://localhost:8080/"
        },
        "id": "NXb7GhzFabtg",
        "outputId": "1af85a0c-77f1-4002-8484-282008c2c5bf"
      },
      "execution_count": 2,
      "outputs": [
        {
          "output_type": "stream",
          "name": "stdout",
          "text": [
            "Median: 17.0\n"
          ]
        }
      ]
    },
    {
      "cell_type": "code",
      "source": [
        "import statistics\n",
        "\n",
        "data = [12, 18, 14, 16, 18, 20, 18, 15, 12, 18, 14, 16, 18, 20, 18, 15]\n",
        "\n",
        "# Find mode\n",
        "mode_value = statistics.mode(data)\n",
        "print(\"Mode:\", mode_value)\n"
      ],
      "metadata": {
        "colab": {
          "base_uri": "https://localhost:8080/"
        },
        "id": "0WY4tg0Kapz2",
        "outputId": "f83a483c-824f-45af-b29c-b950180a6b6c"
      },
      "execution_count": 3,
      "outputs": [
        {
          "output_type": "stream",
          "name": "stdout",
          "text": [
            "Mode: 18\n"
          ]
        }
      ]
    },
    {
      "cell_type": "markdown",
      "source": [
        "**Q4. Levels of Measurement\n",
        "Objective: Understand classification of data types.\n",
        "Problem:\n",
        " Define and give one example for each level of measurement:\n",
        "a) Nominal\n",
        "b) Ordinal\n",
        "c) Interval\n",
        "d) Ratio**\n"
      ],
      "metadata": {
        "id": "o6eNql0oYm7f"
      }
    },
    {
      "cell_type": "markdown",
      "source": [
        "**a) Nominal**\n",
        "\n",
        "Definition: Data that represent categories with no logical order or ranking.\n",
        "Example: Types of fruits Apple, Banana, Orange.\n",
        "\n",
        "**b) Ordinal**\n",
        "\n",
        "Definition: Data that represent categories with a meaningful order, but the differences between values are not uniform or measurable.\n",
        "\n",
        "Example: Customer satisfaction ratings Poor, Fair, Good, Excellent.\n",
        "\n",
        "**c) Interval**\n",
        "\n",
        "Definition: Numeric data with equal intervals between values, but no true zero point.\n",
        "\n",
        "Example: Temperature in Celsius the difference between 20°C and 30°C is meaningful, but 0°C does not mean \"no temperature.\"\n",
        "\n",
        "**d) Ratio**\n",
        "\n",
        "Definition: Numeric data with equal intervals and a true zero point, allowing for meaningful ratios.\n",
        "\n",
        "Example: Weight in kilograms 0 kg means no weight, and 20 kg is twice as heavy as 10 kg.\n"
      ],
      "metadata": {
        "id": "Yn12Ml8NYz4G"
      }
    },
    {
      "cell_type": "markdown",
      "source": [
        "**Q5. Variance and Standard Deviation - Theory\n",
        "Objective: Understand spread/variability in data.\n",
        "Problem:\n",
        "a) Define Variance and Standard Deviation.\n",
        "b) Explain why Standard Deviation is more interpretable than Variance.**\n"
      ],
      "metadata": {
        "id": "7FCfm-s5a7cA"
      }
    },
    {
      "cell_type": "markdown",
      "source": [
        "**Variance:**\n",
        "Variance measures the average squared deviation of each data point from the mean. It shows how spread out the data is.\n",
        "\n",
        "Variance = Variance=\n",
        "n\n",
        "∑(xi − xˉ )2\n",
        "where\n",
        "𝑥𝑖  is each data point, 𝑥ˉ  is the mean, and n is the number of data points.\n",
        "\n",
        "**Standard Deviation:**\n",
        "Standard deviation is the square root of the variance. It provides a measure of spread in the same units as the original data.\n",
        "\n",
        "Standard Deviation = Squareroot of variance\n",
        "\n",
        "**b) Why Standard Deviation is More Interpretable than Variance**\n",
        "Standard deviation is more interpretable because it is in the same unit as the original data, making it easier to understand the typical distance from the mean.\n",
        "In contrast, variance is in squared units, which are harder to relate to the actual data values. For example, if data is in meters, variance is in square meters, but standard deviation is again in meters—making it more practical for real-world interpretation.\n"
      ],
      "metadata": {
        "id": "TxqwQ79FbOW-"
      }
    },
    {
      "cell_type": "markdown",
      "source": [
        "**Q6. Manual Calculation - Variance and Standard Deviation\n",
        "Objective: Practice computing data spread.\n",
        "Problem:\n",
        " Given the data:\n",
        " 8, 10, 12, 14, 16, 10, 12, 14, 16\n",
        "Calculate:\n",
        "a) Sample Variance\n",
        "b) Sample Standard Deviation**"
      ],
      "metadata": {
        "id": "GDWl6B1xeG2_"
      }
    },
    {
      "cell_type": "markdown",
      "source": [
        "Given Data:8,10,12,14,16,10,12,14,16\n",
        "Total values 𝑛=9\n",
        "\n",
        "mean = 112/9 = 12.44\n",
        "\n",
        "Step 2: Find the Squared Deviations from the Mean\n",
        "| Value $x$ | $x - \\bar{x}$     | $(x - \\bar{x})^2$ |\n",
        "| --------- | ----------------- | ----------------- |\n",
        "| 8         | 8 - 12.44 = -4.44 | 19.71             |\n",
        "| 10        | -2.44             | 5.95              |\n",
        "| 12        | -0.44             | 0.19              |\n",
        "| 14        | 1.56              | 2.43              |\n",
        "| 16        | 3.56              | 12.68             |\n",
        "| 10        | -2.44             | 5.95              |\n",
        "| 12        | -0.44             | 0.19              |\n",
        "| 14        | 1.56              | 2.43              |\n",
        "| 16        | 3.56              | 12.68             |\n",
        "| **Total** |                   | **62.21**         |\n",
        "\n",
        "Step 3: Sample Variance\n",
        "\n",
        "s2= n−1∑(x−xˉ )2\n",
        "=62.21/8\n",
        "\n",
        " ≈7.78\n",
        " Step 4: Sample Standard Deviation\n",
        "s= square root of 7.78  ≈2.79"
      ],
      "metadata": {
        "id": "0ES8DxCfecGe"
      }
    },
    {
      "cell_type": "markdown",
      "source": [
        "**Q7. Range and Interquartile Range (IQR)\n",
        "Objective: Use position-based dispersion metrics.\n",
        "Problem:\n",
        " Given the dataset:\n",
        " 22, 29, 25, 31, 35, 40, 45, 48, 50\n",
        "a) Arrange data in ascending order\n",
        "b) Calculate the Range\n",
        "c) Find Q1, Q3, and IQR**"
      ],
      "metadata": {
        "id": "DyujG8XTgJNP"
      }
    },
    {
      "cell_type": "markdown",
      "source": [
        "Given Dataset:\n",
        "22, 29, 25, 31, 35, 40, 45, 48, 50\n",
        "\n",
        "a) Arrange data in ascending order\n",
        "Sorted dataset:\n",
        "22, 25, 29, 31, 35, 40, 45, 48, 50\n",
        "\n",
        "b) Calculate the Range\n",
        "Range =Maximum−Minimum=50−22=28\n",
        "\n",
        "c) Find Q1, Q3, and IQR\n",
        "Since there are 9 data points, the median (Q2) is the 5th value:\n",
        "\n",
        "Median (Q2) = 35\n",
        "\n",
        "Lower half (for Q1) = 22, 25, 29, 31\n",
        "Q1 = average of 2nd and 3rd values = (25 + 29) / 2 = 27\n",
        "\n",
        "Upper half (for Q3) = 40, 45, 48, 50\n",
        "\n",
        "Q3 = average of 2nd and 3rd in upper half = (45 + 48) / 2 = 46.5\n",
        "\n",
        "IQR=Q3−Q1=46.5−27= 19.5\n",
        "===============\n",
        "Range = 28\n",
        "\n",
        "Q1 = 27\n",
        "\n",
        "Q3 = 46.5\n",
        "\n",
        "IQR = 19.5\n",
        "==============\n",
        "\n"
      ],
      "metadata": {
        "id": "KLC2tyrRgYf3"
      }
    },
    {
      "cell_type": "markdown",
      "source": [
        "**Q8. Five-number Summary and Boxplot Concept\n",
        "Objective: Summarize distribution of data.\n",
        "Problem:\n",
        "Define the Five-number Summary and explain each component:\n",
        "Minimum\n",
        "Q1 (First Quartile)\n",
        "Median\n",
        "Q3 (Third Quartile)\n",
        "Maximum\n",
        "Describe how boxplots help in detecting outliers.**\n"
      ],
      "metadata": {
        "id": "TzzGrVzZhgJo"
      }
    },
    {
      "cell_type": "markdown",
      "source": [
        "The five-number summary gives a quick overview of the distribution of a dataset. It includes:\n",
        "\n",
        "**Minimum:**\n",
        "The smallest value in the dataset.\n",
        "\n",
        "**Q1 (First Quartile):**\n",
        "The value below which 25% of the data falls.\n",
        "\n",
        "**Median (Q2):**\n",
        "The middle value (50th percentile) that separates the dataset into two equal halves.\n",
        "\n",
        "**Q3 (Third Quartile):**\n",
        "The value below which 75% of the data falls.\n",
        "\n",
        "**Maximum:**\n",
        "The largest value in the dataset.\n",
        "\n",
        "**Boxplot and Outliers:**\n",
        "A boxplot (box-and-whisker plot) is a graphical representation of the five-number summary. It helps identify:\n",
        "\n",
        "**Outliers: Points that lie far beyond Q1 − 1.5×IQR or Q3 + 1.5×IQR**\n",
        "\n",
        "**Skewness: Based on asymmetry of the box and whiskers**\n",
        "\n",
        "**Spread: Visual length between Q1 and Q3 (IQR)**"
      ],
      "metadata": {
        "id": "TMmHYyvkhwSo"
      }
    },
    {
      "cell_type": "markdown",
      "source": [
        "**Q9. Confidence Interval for the Mean\n",
        "Objective: Estimate population means using sample data.\n",
        "Problem:\n",
        " A sample of 36 students has an average height of 162 cm with a standard deviation of 6 cm.\n",
        " Calculate the 95% Confidence Interval for the population mean.\n",
        " (Hint: Use Z = 1.96 for 95% confidence)**"
      ],
      "metadata": {
        "id": "6fe94e9jiMBO"
      }
    },
    {
      "cell_type": "markdown",
      "source": [
        "Given:\n",
        "\n",
        "Sample mean (𝑥ˉxˉ ) = 162 cm\n",
        "\n",
        "Standard deviation (s) = 6 cm\n",
        "\n",
        "Sample size (n) = 36\n",
        "\n",
        "Z = 1.96 for 95% confidence\n",
        "\n",
        "Formula:\n",
        "CI=𝑥ˉ±𝑍⋅(𝑠/𝑛)\n",
        "Calculation:\n",
        "Standard Error\n",
        "(SE) =6/ square root of 36\n",
        "6/6=1\n",
        "\n",
        "**Margin of Error = 1.96*1=1.96**\n",
        "\n",
        "**Confidence Interval=162±1.96=(160.04,163.96)**\n",
        "\n",
        "**Answer: The 95% CI is (160.04 cm, 163.96 cm)**"
      ],
      "metadata": {
        "id": "c8mLgDFHiQIv"
      }
    },
    {
      "cell_type": "markdown",
      "source": [
        "**Q10. Hypothesis Testing - One Sample Z-Test\n",
        "Objective: Make decisions using statistical testing.\n",
        "Problem:\n",
        " The average salary in a city is ₹30,000. A random sample of 49 employees has an average salary of ₹31,000 with a standard deviation of ₹4,900.\n",
        " Test the hypothesis at the 5% level of significance to determine if the average salary has increased.\n",
        "a) State the null and alternative hypothesis:\n",
        "b) Calculate the Z-score:\n",
        "c) Conclude the result using critical value (±1.96)**\n"
      ],
      "metadata": {
        "id": "PyqjOjV1kyyH"
      }
    },
    {
      "cell_type": "markdown",
      "source": [
        "Given:\n",
        "\n",
        "Population mean (𝜇μ) = ₹30,000\n",
        "Sample mean (𝑥ˉxˉ ) = ₹31,000\n",
        "Sample size (n) = 49\n",
        "Standard deviation (s) = ₹4,900\n",
        "Significance level = 5% ⇒ Z-critical = ±1.96\n",
        "\n",
        "a) Hypotheses:\n",
        "Null hypothesis (H₀): μ = 30,000 (no increase)\n",
        "\n",
        "Alternative hypothesis (H₁): μ > 30,000 (increase in average salary)\n",
        "\n",
        "Z = 1.43\n",
        "\n",
        "c) Conclusion:\n",
        "Critical value = 1.96\n",
        "\n",
        "Since 1.43 < 1.96, fail to reject H₀\n",
        "\n",
        "**Conclusion: There is not enough evidence at the 5% level to conclude that the average salary has increased.**"
      ],
      "metadata": {
        "id": "8dQxzP9Pk29X"
      }
    },
    {
      "cell_type": "code",
      "source": [],
      "metadata": {
        "id": "S_DmatDnPa6G"
      },
      "execution_count": null,
      "outputs": []
    },
    {
      "cell_type": "code",
      "source": [],
      "metadata": {
        "id": "HWOzfLDGPa3m"
      },
      "execution_count": null,
      "outputs": []
    },
    {
      "cell_type": "code",
      "source": [],
      "metadata": {
        "id": "R0CuvSkbPa0-"
      },
      "execution_count": null,
      "outputs": []
    },
    {
      "cell_type": "code",
      "source": [],
      "metadata": {
        "id": "ipkieGGtPayH"
      },
      "execution_count": null,
      "outputs": []
    },
    {
      "cell_type": "code",
      "source": [],
      "metadata": {
        "id": "lJKVoNOBPave"
      },
      "execution_count": null,
      "outputs": []
    },
    {
      "cell_type": "code",
      "source": [],
      "metadata": {
        "id": "CXsK9sXyPasw"
      },
      "execution_count": null,
      "outputs": []
    }
  ]
}